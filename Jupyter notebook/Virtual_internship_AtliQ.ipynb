{
 "cells": [
  {
   "cell_type": "markdown",
   "id": "7d4a8892-6fb0-4770-a0ba-40bf92612caf",
   "metadata": {},
   "source": [
    "# Atliq Technology: Virtual internship Project by Bharath Srinivas"
   ]
  },
  {
   "cell_type": "code",
   "execution_count": 411,
   "id": "b13df29e-0110-48ea-8fd6-d79d19e97052",
   "metadata": {},
   "outputs": [],
   "source": [
    "import pandas as pd\n",
    "import numpy as np\n",
    "import matplotlib.pyplot as plt\n",
    "import seaborn as sns"
   ]
  },
  {
   "cell_type": "code",
   "execution_count": 412,
   "id": "80598ca7-f736-4737-9640-392993651ed8",
   "metadata": {},
   "outputs": [
    {
     "data": {
      "text/html": [
       "<div>\n",
       "<style scoped>\n",
       "    .dataframe tbody tr th:only-of-type {\n",
       "        vertical-align: middle;\n",
       "    }\n",
       "\n",
       "    .dataframe tbody tr th {\n",
       "        vertical-align: top;\n",
       "    }\n",
       "\n",
       "    .dataframe thead th {\n",
       "        text-align: right;\n",
       "    }\n",
       "</style>\n",
       "<table border=\"1\" class=\"dataframe\">\n",
       "  <thead>\n",
       "    <tr style=\"text-align: right;\">\n",
       "      <th></th>\n",
       "      <th>respondent_id</th>\n",
       "      <th>age</th>\n",
       "      <th>gender</th>\n",
       "      <th>zone</th>\n",
       "      <th>occupation</th>\n",
       "      <th>income_levels</th>\n",
       "      <th>consume_frequency(weekly)</th>\n",
       "      <th>current_brand</th>\n",
       "      <th>preferable_consumption_size</th>\n",
       "      <th>awareness_of_other_brands</th>\n",
       "      <th>reasons_for_choosing_brands</th>\n",
       "      <th>flavor_preference</th>\n",
       "      <th>purchase_channel</th>\n",
       "      <th>packaging_preference</th>\n",
       "      <th>health_concerns</th>\n",
       "      <th>typical_consumption_situations</th>\n",
       "      <th>price_range</th>\n",
       "    </tr>\n",
       "  </thead>\n",
       "  <tbody>\n",
       "    <tr>\n",
       "      <th>0</th>\n",
       "      <td>R00001</td>\n",
       "      <td>30</td>\n",
       "      <td>M</td>\n",
       "      <td>Urban</td>\n",
       "      <td>Working Professional</td>\n",
       "      <td>&lt;10L</td>\n",
       "      <td>3-4 times</td>\n",
       "      <td>Newcomer</td>\n",
       "      <td>Medium (500 ml)</td>\n",
       "      <td>0 to 1</td>\n",
       "      <td>Price</td>\n",
       "      <td>Traditional</td>\n",
       "      <td>Online</td>\n",
       "      <td>Simple</td>\n",
       "      <td>Medium (Moderately health-conscious)</td>\n",
       "      <td>Active (eg. Sports, gym)</td>\n",
       "      <td>100-150</td>\n",
       "    </tr>\n",
       "    <tr>\n",
       "      <th>1</th>\n",
       "      <td>R00002</td>\n",
       "      <td>46</td>\n",
       "      <td>F</td>\n",
       "      <td>Metro</td>\n",
       "      <td>Working Professional</td>\n",
       "      <td>&gt; 35L</td>\n",
       "      <td>5-7 times</td>\n",
       "      <td>Established</td>\n",
       "      <td>Medium (500 ml)</td>\n",
       "      <td>2 to 4</td>\n",
       "      <td>Quality</td>\n",
       "      <td>Exotic</td>\n",
       "      <td>Retail Store</td>\n",
       "      <td>Premium</td>\n",
       "      <td>Medium (Moderately health-conscious)</td>\n",
       "      <td>Social (eg. Parties)</td>\n",
       "      <td>200-250</td>\n",
       "    </tr>\n",
       "    <tr>\n",
       "      <th>2</th>\n",
       "      <td>R00003</td>\n",
       "      <td>41</td>\n",
       "      <td>F</td>\n",
       "      <td>Rural</td>\n",
       "      <td>Working Professional</td>\n",
       "      <td>&gt; 35L</td>\n",
       "      <td>3-4 times</td>\n",
       "      <td>Newcomer</td>\n",
       "      <td>Medium (500 ml)</td>\n",
       "      <td>2 to 4</td>\n",
       "      <td>Availability</td>\n",
       "      <td>Traditional</td>\n",
       "      <td>Retail Store</td>\n",
       "      <td>Premium</td>\n",
       "      <td>Medium (Moderately health-conscious)</td>\n",
       "      <td>Active (eg. Sports, gym)</td>\n",
       "      <td>200-250</td>\n",
       "    </tr>\n",
       "  </tbody>\n",
       "</table>\n",
       "</div>"
      ],
      "text/plain": [
       "  respondent_id  age gender   zone            occupation income_levels  \\\n",
       "0        R00001   30      M  Urban  Working Professional          <10L   \n",
       "1        R00002   46      F  Metro  Working Professional         > 35L   \n",
       "2        R00003   41      F  Rural  Working Professional         > 35L   \n",
       "\n",
       "  consume_frequency(weekly) current_brand preferable_consumption_size  \\\n",
       "0                 3-4 times      Newcomer             Medium (500 ml)   \n",
       "1                 5-7 times   Established             Medium (500 ml)   \n",
       "2                 3-4 times      Newcomer             Medium (500 ml)   \n",
       "\n",
       "  awareness_of_other_brands reasons_for_choosing_brands flavor_preference  \\\n",
       "0                    0 to 1                       Price       Traditional   \n",
       "1                    2 to 4                     Quality            Exotic   \n",
       "2                    2 to 4                Availability       Traditional   \n",
       "\n",
       "  purchase_channel packaging_preference                       health_concerns  \\\n",
       "0           Online               Simple  Medium (Moderately health-conscious)   \n",
       "1     Retail Store              Premium  Medium (Moderately health-conscious)   \n",
       "2     Retail Store              Premium  Medium (Moderately health-conscious)   \n",
       "\n",
       "  typical_consumption_situations price_range  \n",
       "0       Active (eg. Sports, gym)     100-150  \n",
       "1           Social (eg. Parties)     200-250  \n",
       "2       Active (eg. Sports, gym)     200-250  "
      ]
     },
     "execution_count": 412,
     "metadata": {},
     "output_type": "execute_result"
    }
   ],
   "source": [
    "df=pd.read_csv(\"survey_results.csv\")\n",
    "df.head(3)"
   ]
  },
  {
   "cell_type": "code",
   "execution_count": 413,
   "id": "d6d697ca-5368-460e-8356-27625586bdc7",
   "metadata": {},
   "outputs": [
    {
     "data": {
      "text/plain": [
       "(30010, 17)"
      ]
     },
     "execution_count": 413,
     "metadata": {},
     "output_type": "execute_result"
    }
   ],
   "source": [
    "df.shape"
   ]
  },
  {
   "cell_type": "markdown",
   "id": "4ee1d4e2-ebe4-4461-ab59-428d9d60c7e1",
   "metadata": {},
   "source": [
    "## Data cleaning: \n",
    "### Removing duplicates"
   ]
  },
  {
   "cell_type": "code",
   "execution_count": 414,
   "id": "2ea2f4c4-afe2-4744-a10c-7f298b7850ee",
   "metadata": {},
   "outputs": [
    {
     "data": {
      "text/plain": [
       "np.int64(10)"
      ]
     },
     "execution_count": 414,
     "metadata": {},
     "output_type": "execute_result"
    }
   ],
   "source": [
    "df.respondent_id.duplicated().sum()"
   ]
  },
  {
   "cell_type": "code",
   "execution_count": 415,
   "id": "c90ecb81-0b5d-4376-861f-0fc67bf013de",
   "metadata": {},
   "outputs": [],
   "source": [
    "df.drop_duplicates(subset=\"respondent_id\",keep=\"first\",inplace=True)"
   ]
  },
  {
   "cell_type": "code",
   "execution_count": 416,
   "id": "d1d0383d-b390-4a10-8d34-2070fc4b9b93",
   "metadata": {},
   "outputs": [
    {
     "data": {
      "text/plain": [
       "np.int64(0)"
      ]
     },
     "execution_count": 416,
     "metadata": {},
     "output_type": "execute_result"
    }
   ],
   "source": [
    "df.respondent_id.duplicated().sum()"
   ]
  },
  {
   "cell_type": "markdown",
   "id": "28ca8e2d-61c3-4e15-b35f-368c218ce0f6",
   "metadata": {},
   "source": [
    "###  Removing outliers"
   ]
  },
  {
   "cell_type": "code",
   "execution_count": 417,
   "id": "886016c3-5ef6-4aa2-b501-a3a2a50107e1",
   "metadata": {},
   "outputs": [
    {
     "data": {
      "image/png": "[encoded data removed]",
      "text/plain": [
       "<Figure size 640x480 with 1 Axes>"
      ]
     },
     "metadata": {},
     "output_type": "display_data"
    }
   ],
   "source": [
    "data = df.age\n",
    "sns.boxplot(data)\n",
    "plt.title(\"Distribution of ages\")\n",
    "plt.show()"
   ]
  },
  {
   "cell_type": "code",
   "execution_count": 418,
   "id": "2c8bb60a-d89c-4cdf-80fc-be3a65da756b",
   "metadata": {},
   "outputs": [
    {
     "data": {
      "text/plain": [
       "0.25    23.0\n",
       "0.75    40.0\n",
       "Name: age, dtype: float64"
      ]
     },
     "execution_count": 418,
     "metadata": {},
     "output_type": "execute_result"
    }
   ],
   "source": [
    "df.age.quantile([0.25,0.75])"
   ]
  },
  {
   "cell_type": "code",
   "execution_count": 419,
   "id": "01eeaaea-7861-4313-bd8c-cf041fd57376",
   "metadata": {},
   "outputs": [
    {
     "data": {
      "text/plain": [
       "age\n",
       "428    2\n",
       "453    1\n",
       "604    1\n",
       "457    1\n",
       "267    1\n",
       "285    1\n",
       "192    1\n",
       "203    1\n",
       "Name: count, dtype: int64"
      ]
     },
     "execution_count": 419,
     "metadata": {},
     "output_type": "execute_result"
    }
   ],
   "source": [
    "df['age'][df.age> df.age.quantile(0.999)].value_counts()"
   ]
  },
  {
   "cell_type": "code",
   "execution_count": 420,
   "id": "1e6eea9e-ae5c-4749-a15e-a1fecde616f3",
   "metadata": {},
   "outputs": [],
   "source": [
    "df = df[df.age< df.age.quantile(0.999)]"
   ]
  },
  {
   "cell_type": "code",
   "execution_count": 421,
   "id": "49aff055-e939-4a77-aee9-fff2b1b3c198",
   "metadata": {},
   "outputs": [
    {
     "data": {
      "image/png": "[encoded data removed]",
      "text/plain": [
       "<Figure size 640x480 with 1 Axes>"
      ]
     },
     "metadata": {},
     "output_type": "display_data"
    }
   ],
   "source": [
    "data = df.age\n",
    "sns.boxplot(data)\n",
    "plt.title(\"Distribution of ages\")\n",
    "plt.show()"
   ]
  },
  {
   "cell_type": "markdown",
   "id": "e68cf53d-561d-494d-994c-e71f7866cac0",
   "metadata": {},
   "source": [
    "### Handling duplicates"
   ]
  },
  {
   "cell_type": "code",
   "execution_count": 422,
   "id": "b850e21f-1063-41a6-b41a-351ce72d6671",
   "metadata": {},
   "outputs": [
    {
     "data": {
      "text/html": [
       "<div>\n",
       "<style scoped>\n",
       "    .dataframe tbody tr th:only-of-type {\n",
       "        vertical-align: middle;\n",
       "    }\n",
       "\n",
       "    .dataframe tbody tr th {\n",
       "        vertical-align: top;\n",
       "    }\n",
       "\n",
       "    .dataframe thead th {\n",
       "        text-align: right;\n",
       "    }\n",
       "</style>\n",
       "<table border=\"1\" class=\"dataframe\">\n",
       "  <thead>\n",
       "    <tr style=\"text-align: right;\">\n",
       "      <th></th>\n",
       "      <th>respondent_id</th>\n",
       "      <th>age</th>\n",
       "      <th>gender</th>\n",
       "      <th>zone</th>\n",
       "      <th>occupation</th>\n",
       "      <th>income_levels</th>\n",
       "      <th>consume_frequency(weekly)</th>\n",
       "      <th>current_brand</th>\n",
       "      <th>preferable_consumption_size</th>\n",
       "      <th>awareness_of_other_brands</th>\n",
       "      <th>reasons_for_choosing_brands</th>\n",
       "      <th>flavor_preference</th>\n",
       "      <th>purchase_channel</th>\n",
       "      <th>packaging_preference</th>\n",
       "      <th>health_concerns</th>\n",
       "      <th>typical_consumption_situations</th>\n",
       "      <th>price_range</th>\n",
       "    </tr>\n",
       "  </thead>\n",
       "  <tbody>\n",
       "    <tr>\n",
       "      <th>0</th>\n",
       "      <td>R00001</td>\n",
       "      <td>30</td>\n",
       "      <td>M</td>\n",
       "      <td>Urban</td>\n",
       "      <td>Working Professional</td>\n",
       "      <td>&lt;10L</td>\n",
       "      <td>3-4 times</td>\n",
       "      <td>Newcomer</td>\n",
       "      <td>Medium (500 ml)</td>\n",
       "      <td>0 to 1</td>\n",
       "      <td>Price</td>\n",
       "      <td>Traditional</td>\n",
       "      <td>Online</td>\n",
       "      <td>Simple</td>\n",
       "      <td>Medium (Moderately health-conscious)</td>\n",
       "      <td>Active (eg. Sports, gym)</td>\n",
       "      <td>100-150</td>\n",
       "    </tr>\n",
       "    <tr>\n",
       "      <th>1</th>\n",
       "      <td>R00002</td>\n",
       "      <td>46</td>\n",
       "      <td>F</td>\n",
       "      <td>Metro</td>\n",
       "      <td>Working Professional</td>\n",
       "      <td>&gt; 35L</td>\n",
       "      <td>5-7 times</td>\n",
       "      <td>Established</td>\n",
       "      <td>Medium (500 ml)</td>\n",
       "      <td>2 to 4</td>\n",
       "      <td>Quality</td>\n",
       "      <td>Exotic</td>\n",
       "      <td>Retail Store</td>\n",
       "      <td>Premium</td>\n",
       "      <td>Medium (Moderately health-conscious)</td>\n",
       "      <td>Social (eg. Parties)</td>\n",
       "      <td>200-250</td>\n",
       "    </tr>\n",
       "  </tbody>\n",
       "</table>\n",
       "</div>"
      ],
      "text/plain": [
       "  respondent_id  age gender   zone            occupation income_levels  \\\n",
       "0        R00001   30      M  Urban  Working Professional          <10L   \n",
       "1        R00002   46      F  Metro  Working Professional         > 35L   \n",
       "\n",
       "  consume_frequency(weekly) current_brand preferable_consumption_size  \\\n",
       "0                 3-4 times      Newcomer             Medium (500 ml)   \n",
       "1                 5-7 times   Established             Medium (500 ml)   \n",
       "\n",
       "  awareness_of_other_brands reasons_for_choosing_brands flavor_preference  \\\n",
       "0                    0 to 1                       Price       Traditional   \n",
       "1                    2 to 4                     Quality            Exotic   \n",
       "\n",
       "  purchase_channel packaging_preference                       health_concerns  \\\n",
       "0           Online               Simple  Medium (Moderately health-conscious)   \n",
       "1     Retail Store              Premium  Medium (Moderately health-conscious)   \n",
       "\n",
       "  typical_consumption_situations price_range  \n",
       "0       Active (eg. Sports, gym)     100-150  \n",
       "1           Social (eg. Parties)     200-250  "
      ]
     },
     "execution_count": 422,
     "metadata": {},
     "output_type": "execute_result"
    }
   ],
   "source": [
    "df.head(2)"
   ]
  },
  {
   "cell_type": "code",
   "execution_count": 423,
   "id": "fbc185f1-f83e-495a-a59c-a0dc9972c712",
   "metadata": {},
   "outputs": [
    {
     "data": {
      "text/plain": [
       "respondent_id                        0\n",
       "age                                  0\n",
       "gender                               0\n",
       "zone                                 0\n",
       "occupation                           0\n",
       "income_levels                     8059\n",
       "consume_frequency(weekly)            8\n",
       "current_brand                        0\n",
       "preferable_consumption_size          0\n",
       "awareness_of_other_brands            0\n",
       "reasons_for_choosing_brands          0\n",
       "flavor_preference                    0\n",
       "purchase_channel                    10\n",
       "packaging_preference                 0\n",
       "health_concerns                      0\n",
       "typical_consumption_situations       0\n",
       "price_range                          0\n",
       "dtype: int64"
      ]
     },
     "execution_count": 423,
     "metadata": {},
     "output_type": "execute_result"
    }
   ],
   "source": [
    "df.isna().sum()"
   ]
  },
  {
   "cell_type": "code",
   "execution_count": 424,
   "id": "95c250b8-de42-4894-b30f-ed302a6eeaed",
   "metadata": {},
   "outputs": [
    {
     "data": {
      "text/plain": [
       "income_levels\n",
       "16L - 25L    5887\n",
       "10L - 15L    5232\n",
       "<10L         4602\n",
       "26L - 35L    3871\n",
       "> 35L        2246\n",
       "Name: count, dtype: int64"
      ]
     },
     "execution_count": 424,
     "metadata": {},
     "output_type": "execute_result"
    }
   ],
   "source": [
    "df.income_levels.value_counts()"
   ]
  },
  {
   "cell_type": "code",
   "execution_count": 425,
   "id": "7bb862d3-fbbd-491c-982d-38936ec42dcb",
   "metadata": {},
   "outputs": [],
   "source": [
    "df['income_levels'] = df['income_levels'].fillna('not reported')\n"
   ]
  },
  {
   "cell_type": "code",
   "execution_count": 426,
   "id": "75526f24-85b9-4339-9b23-995d61f59910",
   "metadata": {},
   "outputs": [
    {
     "data": {
      "text/plain": [
       "np.int64(8)"
      ]
     },
     "execution_count": 426,
     "metadata": {},
     "output_type": "execute_result"
    }
   ],
   "source": [
    "df['consume_frequency(weekly)'].isna().sum()"
   ]
  },
  {
   "cell_type": "code",
   "execution_count": 427,
   "id": "72aca281-3364-4281-afae-ee4ac05e1134",
   "metadata": {},
   "outputs": [
    {
     "data": {
      "text/plain": [
       "consume_frequency(weekly)\n",
       "3-4 times    11750\n",
       "5-7 times     9749\n",
       "0-2 times     8390\n",
       "Name: count, dtype: int64"
      ]
     },
     "execution_count": 427,
     "metadata": {},
     "output_type": "execute_result"
    }
   ],
   "source": [
    "df['consume_frequency(weekly)'].value_counts()"
   ]
  },
  {
   "cell_type": "code",
   "execution_count": 428,
   "id": "ef49efcc-8198-40d1-874e-b09550bdbf10",
   "metadata": {},
   "outputs": [],
   "source": [
    "df['consume_frequency(weekly)'] = df['consume_frequency(weekly)'].fillna(df['consume_frequency(weekly)'].mode()[0])"
   ]
  },
  {
   "cell_type": "code",
   "execution_count": 429,
   "id": "b1047579-8d7c-4cc9-a40b-463cb70466a2",
   "metadata": {},
   "outputs": [],
   "source": [
    "df['purchase_channel'] = df['purchase_channel'].fillna(df['purchase_channel'].mode()[0])"
   ]
  },
  {
   "cell_type": "code",
   "execution_count": 430,
   "id": "b7eb5be4-d757-4708-9c72-40eea6706aef",
   "metadata": {},
   "outputs": [],
   "source": [
    "#fillna only works when you pas a scalar,it wont work if u pass a \n",
    "#series(just passing df.column.mode() will return a series and the fillna wont work)"
   ]
  },
  {
   "cell_type": "code",
   "execution_count": 431,
   "id": "32810dfa-3bc0-4f80-aea4-52a370c6d839",
   "metadata": {},
   "outputs": [
    {
     "data": {
      "text/plain": [
       "respondent_id                     0\n",
       "age                               0\n",
       "gender                            0\n",
       "zone                              0\n",
       "occupation                        0\n",
       "income_levels                     0\n",
       "consume_frequency(weekly)         0\n",
       "current_brand                     0\n",
       "preferable_consumption_size       0\n",
       "awareness_of_other_brands         0\n",
       "reasons_for_choosing_brands       0\n",
       "flavor_preference                 0\n",
       "purchase_channel                  0\n",
       "packaging_preference              0\n",
       "health_concerns                   0\n",
       "typical_consumption_situations    0\n",
       "price_range                       0\n",
       "dtype: int64"
      ]
     },
     "execution_count": 431,
     "metadata": {},
     "output_type": "execute_result"
    }
   ],
   "source": [
    "df.isna().sum()"
   ]
  },
  {
   "cell_type": "markdown",
   "id": "97592fa7-9d39-42ab-bef3-ebbf909aad07",
   "metadata": {},
   "source": [
    "### cleaning categorical columns"
   ]
  },
  {
   "cell_type": "code",
   "execution_count": 432,
   "id": "e828983f-4a2d-4d45-9301-11e8ca7ce56a",
   "metadata": {},
   "outputs": [
    {
     "data": {
      "text/plain": [
       "Index(['respondent_id', 'gender', 'zone', 'occupation', 'income_levels',\n",
       "       'consume_frequency(weekly)', 'current_brand',\n",
       "       'preferable_consumption_size', 'awareness_of_other_brands',\n",
       "       'reasons_for_choosing_brands', 'flavor_preference', 'purchase_channel',\n",
       "       'packaging_preference', 'health_concerns',\n",
       "       'typical_consumption_situations', 'price_range'],\n",
       "      dtype='object')"
      ]
     },
     "execution_count": 432,
     "metadata": {},
     "output_type": "execute_result"
    }
   ],
   "source": [
    "categorical_cols = df.select_dtypes(['object']).columns\n",
    "categorical_cols"
   ]
  },
  {
   "cell_type": "code",
   "execution_count": 433,
   "id": "4d0afa94-3206-4d46-94cb-553309dfb7cb",
   "metadata": {},
   "outputs": [
    {
     "name": "stdout",
     "output_type": "stream",
     "text": [
      "respondent_id : ['R00001' 'R00002' 'R00003' ... 'R29998' 'R29999' 'R30000']\n",
      "gender : ['M' 'F']\n",
      "zone : ['Urban' 'Metro' 'Rural' 'Semi-Urban' 'Metor' 'urbna']\n",
      "occupation : ['Working Professional' 'Student' 'Entrepreneur' 'Retired']\n",
      "income_levels : ['<10L' '> 35L' '16L - 25L' 'not reported' '10L - 15L' '26L - 35L']\n",
      "consume_frequency(weekly) : ['3-4 times' '5-7 times' '0-2 times']\n",
      "current_brand : ['Newcomer' 'Established' 'newcomer' 'Establishd']\n",
      "preferable_consumption_size : ['Medium (500 ml)' 'Large (1 L)' 'Small (250 ml)']\n",
      "awareness_of_other_brands : ['0 to 1' '2 to 4' 'above 4']\n",
      "reasons_for_choosing_brands : ['Price' 'Quality' 'Availability' 'Brand Reputation']\n",
      "flavor_preference : ['Traditional' 'Exotic']\n",
      "purchase_channel : ['Online' 'Retail Store']\n",
      "packaging_preference : ['Simple' 'Premium' 'Eco-Friendly']\n",
      "health_concerns : ['Medium (Moderately health-conscious)' 'Low (Not very concerned)'\n",
      " 'High (Very health-conscious)']\n",
      "typical_consumption_situations : ['Active (eg. Sports, gym)' 'Social (eg. Parties)' 'Casual (eg. At home)']\n",
      "price_range : ['100-150' '200-250' '150-200' '50-100']\n"
     ]
    }
   ],
   "source": [
    "for col in categorical_cols:\n",
    "    print(f\"{col} : {df[col].unique()}\")"
   ]
  },
  {
   "cell_type": "code",
   "execution_count": 434,
   "id": "937f0606-0aef-4415-9cd6-24a56e432aad",
   "metadata": {},
   "outputs": [
    {
     "data": {
      "text/plain": [
       "(4, 17)"
      ]
     },
     "execution_count": 434,
     "metadata": {},
     "output_type": "execute_result"
    }
   ],
   "source": [
    "df[df['zone']=='Metor'].shape"
   ]
  },
  {
   "cell_type": "code",
   "execution_count": 435,
   "id": "1f21877d-2f17-450d-b836-3fb16005b9d4",
   "metadata": {},
   "outputs": [],
   "source": [
    "df['zone'] = df['zone'].replace({\n",
    "    'Metor':\"Metro\",\n",
    "    'urbna':'Urban',\n",
    "    'urban':'Urban'\n",
    "})"
   ]
  },
  {
   "cell_type": "code",
   "execution_count": 436,
   "id": "9f4bfbb2-21d9-46b7-ac44-93f6eadfd8b7",
   "metadata": {},
   "outputs": [],
   "source": [
    "df['current_brand'] = df['current_brand'].replace({\n",
    "    'newcomer':'Newcomer',\n",
    "    'Establishd':'Established'\n",
    "})"
   ]
  },
  {
   "cell_type": "code",
   "execution_count": 437,
   "id": "2e30a986-de90-4899-993b-2af46f34dc8e",
   "metadata": {},
   "outputs": [
    {
     "data": {
      "text/plain": [
       "array(['Newcomer', 'Established'], dtype=object)"
      ]
     },
     "execution_count": 437,
     "metadata": {},
     "output_type": "execute_result"
    }
   ],
   "source": [
    "df.current_brand.unique()"
   ]
  },
  {
   "cell_type": "code",
   "execution_count": 438,
   "id": "133d340d-ca9c-4d21-820d-04dd157094cf",
   "metadata": {},
   "outputs": [
    {
     "data": {
      "text/plain": [
       "(29897, 17)"
      ]
     },
     "execution_count": 438,
     "metadata": {},
     "output_type": "execute_result"
    }
   ],
   "source": [
    "df.shape"
   ]
  },
  {
   "cell_type": "code",
   "execution_count": 439,
   "id": "f2047bed-ec21-4702-be09-3b2f62759f0d",
   "metadata": {},
   "outputs": [
    {
     "data": {
      "text/plain": [
       "array(['Urban', 'Metro', 'Rural', 'Semi-Urban'], dtype=object)"
      ]
     },
     "execution_count": 439,
     "metadata": {},
     "output_type": "execute_result"
    }
   ],
   "source": [
    "df.zone.unique()"
   ]
  },
  {
   "cell_type": "code",
   "execution_count": 440,
   "id": "171b21fa-f4a1-4368-a882-6b6ec51593f0",
   "metadata": {},
   "outputs": [
    {
     "data": {
      "text/plain": [
       "array(['Newcomer', 'Established'], dtype=object)"
      ]
     },
     "execution_count": 440,
     "metadata": {},
     "output_type": "execute_result"
    }
   ],
   "source": [
    "df.current_brand.unique()"
   ]
  },
  {
   "cell_type": "markdown",
   "id": "3ba6f5e9-8933-4c84-8e06-ab0cff753220",
   "metadata": {},
   "source": [
    "-------"
   ]
  },
  {
   "cell_type": "markdown",
   "id": "495e1006-0d33-4fdd-b86c-e4cdce542652",
   "metadata": {},
   "source": [
    "## Feature Engineering"
   ]
  },
  {
   "cell_type": "code",
   "execution_count": 441,
   "id": "408f36d1-9f6d-4d18-a678-f81a087167b7",
   "metadata": {},
   "outputs": [],
   "source": [
    "bins = [17,25,35,45,55,70,100]\n",
    "labels=['18-25','26-35','36-45','46-55','56-70','70+']\n",
    "df['age_group'] = pd.cut(df['age'],bins=bins,labels=labels)"
   ]
  },
  {
   "cell_type": "code",
   "execution_count": 442,
   "id": "ffcf5192-311b-4768-a934-42a32193ef4d",
   "metadata": {},
   "outputs": [],
   "source": [
    "df.drop('age',axis=1,inplace=True)"
   ]
  },
  {
   "cell_type": "code",
   "execution_count": 443,
   "id": "64eae194-01b5-4ec3-9089-371cafb2dd8a",
   "metadata": {},
   "outputs": [
    {
     "data": {
      "text/plain": [
       "(29897, 17)"
      ]
     },
     "execution_count": 443,
     "metadata": {},
     "output_type": "execute_result"
    }
   ],
   "source": [
    "df.shape"
   ]
  },
  {
   "cell_type": "code",
   "execution_count": 444,
   "id": "b2bba0e0-24b6-4f58-be2d-b7c560b04f36",
   "metadata": {},
   "outputs": [],
   "source": [
    "df['consume_frequency(weekly)'] = df['consume_frequency(weekly)'].map({\n",
    "    \"0-2 times\":1,\n",
    "    \"3-4 times\":2,\n",
    "    \"5-7 times\":3\n",
    "})"
   ]
  },
  {
   "cell_type": "code",
   "execution_count": 445,
   "id": "5e1e25aa-efc9-4e47-a220-6fdc1b45c78e",
   "metadata": {},
   "outputs": [],
   "source": [
    "df['awareness_of_other_brands']= df['awareness_of_other_brands'].map({\n",
    "    \"0 to 1\":1,\n",
    "    \"2 to 4\":2,\n",
    "    \"above 4\":3\n",
    "})"
   ]
  },
  {
   "cell_type": "code",
   "execution_count": 446,
   "id": "34e4cf6a-930c-443e-ac10-d7cedb11d67c",
   "metadata": {},
   "outputs": [],
   "source": [
    "df['cf_ab_score']= round(df['awareness_of_other_brands']/(df['awareness_of_other_brands']+df['consume_frequency(weekly)']),2)"
   ]
  },
  {
   "cell_type": "code",
   "execution_count": 447,
   "id": "c48fbc9b-6fef-444b-bb3e-52d161ee02da",
   "metadata": {},
   "outputs": [
    {
     "data": {
      "text/html": [
       "<div>\n",
       "<style scoped>\n",
       "    .dataframe tbody tr th:only-of-type {\n",
       "        vertical-align: middle;\n",
       "    }\n",
       "\n",
       "    .dataframe tbody tr th {\n",
       "        vertical-align: top;\n",
       "    }\n",
       "\n",
       "    .dataframe thead th {\n",
       "        text-align: right;\n",
       "    }\n",
       "</style>\n",
       "<table border=\"1\" class=\"dataframe\">\n",
       "  <thead>\n",
       "    <tr style=\"text-align: right;\">\n",
       "      <th></th>\n",
       "      <th>respondent_id</th>\n",
       "      <th>gender</th>\n",
       "      <th>zone</th>\n",
       "      <th>occupation</th>\n",
       "      <th>income_levels</th>\n",
       "      <th>consume_frequency(weekly)</th>\n",
       "      <th>current_brand</th>\n",
       "      <th>preferable_consumption_size</th>\n",
       "      <th>awareness_of_other_brands</th>\n",
       "      <th>reasons_for_choosing_brands</th>\n",
       "      <th>flavor_preference</th>\n",
       "      <th>purchase_channel</th>\n",
       "      <th>packaging_preference</th>\n",
       "      <th>health_concerns</th>\n",
       "      <th>typical_consumption_situations</th>\n",
       "      <th>price_range</th>\n",
       "      <th>age_group</th>\n",
       "      <th>cf_ab_score</th>\n",
       "    </tr>\n",
       "  </thead>\n",
       "  <tbody>\n",
       "    <tr>\n",
       "      <th>0</th>\n",
       "      <td>R00001</td>\n",
       "      <td>M</td>\n",
       "      <td>Urban</td>\n",
       "      <td>Working Professional</td>\n",
       "      <td>&lt;10L</td>\n",
       "      <td>2</td>\n",
       "      <td>Newcomer</td>\n",
       "      <td>Medium (500 ml)</td>\n",
       "      <td>1</td>\n",
       "      <td>Price</td>\n",
       "      <td>Traditional</td>\n",
       "      <td>Online</td>\n",
       "      <td>Simple</td>\n",
       "      <td>Medium (Moderately health-conscious)</td>\n",
       "      <td>Active (eg. Sports, gym)</td>\n",
       "      <td>100-150</td>\n",
       "      <td>26-35</td>\n",
       "      <td>0.33</td>\n",
       "    </tr>\n",
       "    <tr>\n",
       "      <th>1</th>\n",
       "      <td>R00002</td>\n",
       "      <td>F</td>\n",
       "      <td>Metro</td>\n",
       "      <td>Working Professional</td>\n",
       "      <td>&gt; 35L</td>\n",
       "      <td>3</td>\n",
       "      <td>Established</td>\n",
       "      <td>Medium (500 ml)</td>\n",
       "      <td>2</td>\n",
       "      <td>Quality</td>\n",
       "      <td>Exotic</td>\n",
       "      <td>Retail Store</td>\n",
       "      <td>Premium</td>\n",
       "      <td>Medium (Moderately health-conscious)</td>\n",
       "      <td>Social (eg. Parties)</td>\n",
       "      <td>200-250</td>\n",
       "      <td>46-55</td>\n",
       "      <td>0.40</td>\n",
       "    </tr>\n",
       "  </tbody>\n",
       "</table>\n",
       "</div>"
      ],
      "text/plain": [
       "  respondent_id gender   zone            occupation income_levels  \\\n",
       "0        R00001      M  Urban  Working Professional          <10L   \n",
       "1        R00002      F  Metro  Working Professional         > 35L   \n",
       "\n",
       "   consume_frequency(weekly) current_brand preferable_consumption_size  \\\n",
       "0                          2      Newcomer             Medium (500 ml)   \n",
       "1                          3   Established             Medium (500 ml)   \n",
       "\n",
       "   awareness_of_other_brands reasons_for_choosing_brands flavor_preference  \\\n",
       "0                          1                       Price       Traditional   \n",
       "1                          2                     Quality            Exotic   \n",
       "\n",
       "  purchase_channel packaging_preference                       health_concerns  \\\n",
       "0           Online               Simple  Medium (Moderately health-conscious)   \n",
       "1     Retail Store              Premium  Medium (Moderately health-conscious)   \n",
       "\n",
       "  typical_consumption_situations price_range age_group  cf_ab_score  \n",
       "0       Active (eg. Sports, gym)     100-150     26-35         0.33  \n",
       "1           Social (eg. Parties)     200-250     46-55         0.40  "
      ]
     },
     "execution_count": 447,
     "metadata": {},
     "output_type": "execute_result"
    }
   ],
   "source": [
    "df.head(2)"
   ]
  },
  {
   "cell_type": "code",
   "execution_count": 448,
   "id": "f19640f5-41cd-4493-97c2-d072949cc496",
   "metadata": {},
   "outputs": [
    {
     "data": {
      "text/plain": [
       "np.float64(0.75)"
      ]
     },
     "execution_count": 448,
     "metadata": {},
     "output_type": "execute_result"
    }
   ],
   "source": [
    "df.cf_ab_score.max()"
   ]
  },
  {
   "cell_type": "code",
   "execution_count": 449,
   "id": "f39e48b1-e9eb-497d-a236-0d79725b79a1",
   "metadata": {},
   "outputs": [
    {
     "data": {
      "text/plain": [
       "np.int64(0)"
      ]
     },
     "execution_count": 449,
     "metadata": {},
     "output_type": "execute_result"
    }
   ],
   "source": [
    "# checking if all the values in the new column has values\n",
    "df.cf_ab_score.isna().sum()"
   ]
  },
  {
   "cell_type": "code",
   "execution_count": 450,
   "id": "5a82bf8e-accc-485b-8f11-5500072c0a1e",
   "metadata": {},
   "outputs": [],
   "source": [
    "df['zone'] = df['zone'].map({\n",
    "    \"Urban\":3,\n",
    "    \"Metro\":4,\n",
    "    \"Rural\":1,\n",
    "    \"Semi-Urban\":2\n",
    "})"
   ]
  },
  {
   "cell_type": "code",
   "execution_count": 451,
   "id": "45d524a9-b003-4b75-adae-fd24641fab2d",
   "metadata": {},
   "outputs": [
    {
     "data": {
      "text/plain": [
       "array(['<10L', '> 35L', '16L - 25L', 'not reported', '10L - 15L',\n",
       "       '26L - 35L'], dtype=object)"
      ]
     },
     "execution_count": 451,
     "metadata": {},
     "output_type": "execute_result"
    }
   ],
   "source": [
    "df.income_levels.unique()"
   ]
  },
  {
   "cell_type": "code",
   "execution_count": 452,
   "id": "9415e155-5c3a-418c-b13f-b8bc9b5800ee",
   "metadata": {},
   "outputs": [
    {
     "data": {
      "text/plain": [
       "respondent_id                     0\n",
       "gender                            0\n",
       "zone                              0\n",
       "occupation                        0\n",
       "income_levels                     0\n",
       "consume_frequency(weekly)         0\n",
       "current_brand                     0\n",
       "preferable_consumption_size       0\n",
       "awareness_of_other_brands         0\n",
       "reasons_for_choosing_brands       0\n",
       "flavor_preference                 0\n",
       "purchase_channel                  0\n",
       "packaging_preference              0\n",
       "health_concerns                   0\n",
       "typical_consumption_situations    0\n",
       "price_range                       0\n",
       "age_group                         0\n",
       "cf_ab_score                       0\n",
       "dtype: int64"
      ]
     },
     "execution_count": 452,
     "metadata": {},
     "output_type": "execute_result"
    }
   ],
   "source": [
    "df.isna().sum()"
   ]
  },
  {
   "cell_type": "code",
   "execution_count": 453,
   "id": "c69c2252-05da-4d45-8a4a-365f0c0fbef8",
   "metadata": {},
   "outputs": [],
   "source": [
    "df['income_levels'] = df['income_levels'].map({\n",
    "    '<10L':1,\n",
    "    '> 35L':5,\n",
    "    '16L - 25L':3,\n",
    "    'not reported':0,\n",
    "    '10L - 15L':2,\n",
    "    '26L - 35L':4\n",
    "})"
   ]
  },
  {
   "cell_type": "code",
   "execution_count": 454,
   "id": "5cdb9704-dc19-4799-b7f0-b8257bb1e25c",
   "metadata": {},
   "outputs": [
    {
     "data": {
      "text/plain": [
       "respondent_id                     0\n",
       "gender                            0\n",
       "zone                              0\n",
       "occupation                        0\n",
       "income_levels                     0\n",
       "consume_frequency(weekly)         0\n",
       "current_brand                     0\n",
       "preferable_consumption_size       0\n",
       "awareness_of_other_brands         0\n",
       "reasons_for_choosing_brands       0\n",
       "flavor_preference                 0\n",
       "purchase_channel                  0\n",
       "packaging_preference              0\n",
       "health_concerns                   0\n",
       "typical_consumption_situations    0\n",
       "price_range                       0\n",
       "age_group                         0\n",
       "cf_ab_score                       0\n",
       "dtype: int64"
      ]
     },
     "execution_count": 454,
     "metadata": {},
     "output_type": "execute_result"
    }
   ],
   "source": [
    "df.isna().sum()"
   ]
  },
  {
   "cell_type": "code",
   "execution_count": 455,
   "id": "dc32dd95-45d8-40ae-ba7b-e2875c4f723d",
   "metadata": {},
   "outputs": [],
   "source": [
    "df['zas_score'] = df['income_levels'] * df['zone'] "
   ]
  },
  {
   "cell_type": "code",
   "execution_count": 456,
   "id": "ccd85636-2851-457b-8475-df21404db672",
   "metadata": {},
   "outputs": [
    {
     "data": {
      "text/plain": [
       "np.int64(0)"
      ]
     },
     "execution_count": 456,
     "metadata": {},
     "output_type": "execute_result"
    }
   ],
   "source": [
    "df.income_levels.isna().sum()"
   ]
  },
  {
   "cell_type": "code",
   "execution_count": 457,
   "id": "ff2a78f8-9dad-46f4-9a25-688906761696",
   "metadata": {},
   "outputs": [
    {
     "data": {
      "text/plain": [
       "np.int64(0)"
      ]
     },
     "execution_count": 457,
     "metadata": {},
     "output_type": "execute_result"
    }
   ],
   "source": [
    "df.zas_score.isna().sum()"
   ]
  },
  {
   "cell_type": "code",
   "execution_count": 458,
   "id": "0aa2b762-5555-4d7f-baf3-ed7eba607895",
   "metadata": {},
   "outputs": [
    {
     "data": {
      "text/plain": [
       "np.int64(0)"
      ]
     },
     "execution_count": 458,
     "metadata": {},
     "output_type": "execute_result"
    }
   ],
   "source": [
    "df.zone.isna().sum()"
   ]
  },
  {
   "cell_type": "code",
   "execution_count": 459,
   "id": "f36c954e-e4ef-4abc-b970-b60ade3add3c",
   "metadata": {},
   "outputs": [
    {
     "data": {
      "text/html": [
       "<div>\n",
       "<style scoped>\n",
       "    .dataframe tbody tr th:only-of-type {\n",
       "        vertical-align: middle;\n",
       "    }\n",
       "\n",
       "    .dataframe tbody tr th {\n",
       "        vertical-align: top;\n",
       "    }\n",
       "\n",
       "    .dataframe thead th {\n",
       "        text-align: right;\n",
       "    }\n",
       "</style>\n",
       "<table border=\"1\" class=\"dataframe\">\n",
       "  <thead>\n",
       "    <tr style=\"text-align: right;\">\n",
       "      <th></th>\n",
       "      <th>respondent_id</th>\n",
       "      <th>gender</th>\n",
       "      <th>zone</th>\n",
       "      <th>occupation</th>\n",
       "      <th>income_levels</th>\n",
       "      <th>consume_frequency(weekly)</th>\n",
       "      <th>current_brand</th>\n",
       "      <th>preferable_consumption_size</th>\n",
       "      <th>awareness_of_other_brands</th>\n",
       "      <th>reasons_for_choosing_brands</th>\n",
       "      <th>flavor_preference</th>\n",
       "      <th>purchase_channel</th>\n",
       "      <th>packaging_preference</th>\n",
       "      <th>health_concerns</th>\n",
       "      <th>typical_consumption_situations</th>\n",
       "      <th>price_range</th>\n",
       "      <th>age_group</th>\n",
       "      <th>cf_ab_score</th>\n",
       "      <th>zas_score</th>\n",
       "    </tr>\n",
       "  </thead>\n",
       "  <tbody>\n",
       "    <tr>\n",
       "      <th>0</th>\n",
       "      <td>R00001</td>\n",
       "      <td>M</td>\n",
       "      <td>3</td>\n",
       "      <td>Working Professional</td>\n",
       "      <td>1</td>\n",
       "      <td>2</td>\n",
       "      <td>Newcomer</td>\n",
       "      <td>Medium (500 ml)</td>\n",
       "      <td>1</td>\n",
       "      <td>Price</td>\n",
       "      <td>Traditional</td>\n",
       "      <td>Online</td>\n",
       "      <td>Simple</td>\n",
       "      <td>Medium (Moderately health-conscious)</td>\n",
       "      <td>Active (eg. Sports, gym)</td>\n",
       "      <td>100-150</td>\n",
       "      <td>26-35</td>\n",
       "      <td>0.33</td>\n",
       "      <td>3</td>\n",
       "    </tr>\n",
       "    <tr>\n",
       "      <th>1</th>\n",
       "      <td>R00002</td>\n",
       "      <td>F</td>\n",
       "      <td>4</td>\n",
       "      <td>Working Professional</td>\n",
       "      <td>5</td>\n",
       "      <td>3</td>\n",
       "      <td>Established</td>\n",
       "      <td>Medium (500 ml)</td>\n",
       "      <td>2</td>\n",
       "      <td>Quality</td>\n",
       "      <td>Exotic</td>\n",
       "      <td>Retail Store</td>\n",
       "      <td>Premium</td>\n",
       "      <td>Medium (Moderately health-conscious)</td>\n",
       "      <td>Social (eg. Parties)</td>\n",
       "      <td>200-250</td>\n",
       "      <td>46-55</td>\n",
       "      <td>0.40</td>\n",
       "      <td>20</td>\n",
       "    </tr>\n",
       "    <tr>\n",
       "      <th>2</th>\n",
       "      <td>R00003</td>\n",
       "      <td>F</td>\n",
       "      <td>1</td>\n",
       "      <td>Working Professional</td>\n",
       "      <td>5</td>\n",
       "      <td>2</td>\n",
       "      <td>Newcomer</td>\n",
       "      <td>Medium (500 ml)</td>\n",
       "      <td>2</td>\n",
       "      <td>Availability</td>\n",
       "      <td>Traditional</td>\n",
       "      <td>Retail Store</td>\n",
       "      <td>Premium</td>\n",
       "      <td>Medium (Moderately health-conscious)</td>\n",
       "      <td>Active (eg. Sports, gym)</td>\n",
       "      <td>200-250</td>\n",
       "      <td>36-45</td>\n",
       "      <td>0.50</td>\n",
       "      <td>5</td>\n",
       "    </tr>\n",
       "  </tbody>\n",
       "</table>\n",
       "</div>"
      ],
      "text/plain": [
       "  respondent_id gender  zone            occupation  income_levels  \\\n",
       "0        R00001      M     3  Working Professional              1   \n",
       "1        R00002      F     4  Working Professional              5   \n",
       "2        R00003      F     1  Working Professional              5   \n",
       "\n",
       "   consume_frequency(weekly) current_brand preferable_consumption_size  \\\n",
       "0                          2      Newcomer             Medium (500 ml)   \n",
       "1                          3   Established             Medium (500 ml)   \n",
       "2                          2      Newcomer             Medium (500 ml)   \n",
       "\n",
       "   awareness_of_other_brands reasons_for_choosing_brands flavor_preference  \\\n",
       "0                          1                       Price       Traditional   \n",
       "1                          2                     Quality            Exotic   \n",
       "2                          2                Availability       Traditional   \n",
       "\n",
       "  purchase_channel packaging_preference                       health_concerns  \\\n",
       "0           Online               Simple  Medium (Moderately health-conscious)   \n",
       "1     Retail Store              Premium  Medium (Moderately health-conscious)   \n",
       "2     Retail Store              Premium  Medium (Moderately health-conscious)   \n",
       "\n",
       "  typical_consumption_situations price_range age_group  cf_ab_score  zas_score  \n",
       "0       Active (eg. Sports, gym)     100-150     26-35         0.33          3  \n",
       "1           Social (eg. Parties)     200-250     46-55         0.40         20  \n",
       "2       Active (eg. Sports, gym)     200-250     36-45         0.50          5  "
      ]
     },
     "execution_count": 459,
     "metadata": {},
     "output_type": "execute_result"
    }
   ],
   "source": [
    "df.head(3)"
   ]
  },
  {
   "cell_type": "code",
   "execution_count": 460,
   "id": "daf5c105-c2be-481c-809d-f1fcc4edd424",
   "metadata": {},
   "outputs": [],
   "source": [
    "condition=((df['current_brand']!='Established') & (df['reasons_for_choosing_brands'].isin(['Price','Quality'])))"
   ]
  },
  {
   "cell_type": "code",
   "execution_count": 461,
   "id": "2b635838-5e3a-4fde-86bb-f62ad33df3fc",
   "metadata": {},
   "outputs": [
    {
     "data": {
      "text/plain": [
       "0         True\n",
       "1        False\n",
       "2        False\n",
       "3        False\n",
       "4        False\n",
       "         ...  \n",
       "30005    False\n",
       "30006    False\n",
       "30007    False\n",
       "30008    False\n",
       "30009     True\n",
       "Length: 29897, dtype: bool"
      ]
     },
     "execution_count": 461,
     "metadata": {},
     "output_type": "execute_result"
    }
   ],
   "source": [
    "condition"
   ]
  },
  {
   "cell_type": "code",
   "execution_count": 462,
   "id": "6685c15b-512e-4b74-a7a7-4e1baca85b5c",
   "metadata": {},
   "outputs": [],
   "source": [
    "df['bsi'] = condition.astype('int8')"
   ]
  },
  {
   "cell_type": "code",
   "execution_count": 463,
   "id": "f1a9e0da-dcf6-41e6-a4f5-f6c486d6971c",
   "metadata": {},
   "outputs": [
    {
     "data": {
      "text/html": [
       "<div>\n",
       "<style scoped>\n",
       "    .dataframe tbody tr th:only-of-type {\n",
       "        vertical-align: middle;\n",
       "    }\n",
       "\n",
       "    .dataframe tbody tr th {\n",
       "        vertical-align: top;\n",
       "    }\n",
       "\n",
       "    .dataframe thead th {\n",
       "        text-align: right;\n",
       "    }\n",
       "</style>\n",
       "<table border=\"1\" class=\"dataframe\">\n",
       "  <thead>\n",
       "    <tr style=\"text-align: right;\">\n",
       "      <th></th>\n",
       "      <th>respondent_id</th>\n",
       "      <th>gender</th>\n",
       "      <th>zone</th>\n",
       "      <th>occupation</th>\n",
       "      <th>income_levels</th>\n",
       "      <th>consume_frequency(weekly)</th>\n",
       "      <th>current_brand</th>\n",
       "      <th>preferable_consumption_size</th>\n",
       "      <th>awareness_of_other_brands</th>\n",
       "      <th>reasons_for_choosing_brands</th>\n",
       "      <th>flavor_preference</th>\n",
       "      <th>purchase_channel</th>\n",
       "      <th>packaging_preference</th>\n",
       "      <th>health_concerns</th>\n",
       "      <th>typical_consumption_situations</th>\n",
       "      <th>price_range</th>\n",
       "      <th>age_group</th>\n",
       "      <th>cf_ab_score</th>\n",
       "      <th>zas_score</th>\n",
       "      <th>bsi</th>\n",
       "    </tr>\n",
       "  </thead>\n",
       "  <tbody>\n",
       "    <tr>\n",
       "      <th>0</th>\n",
       "      <td>R00001</td>\n",
       "      <td>M</td>\n",
       "      <td>3</td>\n",
       "      <td>Working Professional</td>\n",
       "      <td>1</td>\n",
       "      <td>2</td>\n",
       "      <td>Newcomer</td>\n",
       "      <td>Medium (500 ml)</td>\n",
       "      <td>1</td>\n",
       "      <td>Price</td>\n",
       "      <td>Traditional</td>\n",
       "      <td>Online</td>\n",
       "      <td>Simple</td>\n",
       "      <td>Medium (Moderately health-conscious)</td>\n",
       "      <td>Active (eg. Sports, gym)</td>\n",
       "      <td>100-150</td>\n",
       "      <td>26-35</td>\n",
       "      <td>0.33</td>\n",
       "      <td>3</td>\n",
       "      <td>1</td>\n",
       "    </tr>\n",
       "    <tr>\n",
       "      <th>1</th>\n",
       "      <td>R00002</td>\n",
       "      <td>F</td>\n",
       "      <td>4</td>\n",
       "      <td>Working Professional</td>\n",
       "      <td>5</td>\n",
       "      <td>3</td>\n",
       "      <td>Established</td>\n",
       "      <td>Medium (500 ml)</td>\n",
       "      <td>2</td>\n",
       "      <td>Quality</td>\n",
       "      <td>Exotic</td>\n",
       "      <td>Retail Store</td>\n",
       "      <td>Premium</td>\n",
       "      <td>Medium (Moderately health-conscious)</td>\n",
       "      <td>Social (eg. Parties)</td>\n",
       "      <td>200-250</td>\n",
       "      <td>46-55</td>\n",
       "      <td>0.40</td>\n",
       "      <td>20</td>\n",
       "      <td>0</td>\n",
       "    </tr>\n",
       "    <tr>\n",
       "      <th>2</th>\n",
       "      <td>R00003</td>\n",
       "      <td>F</td>\n",
       "      <td>1</td>\n",
       "      <td>Working Professional</td>\n",
       "      <td>5</td>\n",
       "      <td>2</td>\n",
       "      <td>Newcomer</td>\n",
       "      <td>Medium (500 ml)</td>\n",
       "      <td>2</td>\n",
       "      <td>Availability</td>\n",
       "      <td>Traditional</td>\n",
       "      <td>Retail Store</td>\n",
       "      <td>Premium</td>\n",
       "      <td>Medium (Moderately health-conscious)</td>\n",
       "      <td>Active (eg. Sports, gym)</td>\n",
       "      <td>200-250</td>\n",
       "      <td>36-45</td>\n",
       "      <td>0.50</td>\n",
       "      <td>5</td>\n",
       "      <td>0</td>\n",
       "    </tr>\n",
       "  </tbody>\n",
       "</table>\n",
       "</div>"
      ],
      "text/plain": [
       "  respondent_id gender  zone            occupation  income_levels  \\\n",
       "0        R00001      M     3  Working Professional              1   \n",
       "1        R00002      F     4  Working Professional              5   \n",
       "2        R00003      F     1  Working Professional              5   \n",
       "\n",
       "   consume_frequency(weekly) current_brand preferable_consumption_size  \\\n",
       "0                          2      Newcomer             Medium (500 ml)   \n",
       "1                          3   Established             Medium (500 ml)   \n",
       "2                          2      Newcomer             Medium (500 ml)   \n",
       "\n",
       "   awareness_of_other_brands reasons_for_choosing_brands flavor_preference  \\\n",
       "0                          1                       Price       Traditional   \n",
       "1                          2                     Quality            Exotic   \n",
       "2                          2                Availability       Traditional   \n",
       "\n",
       "  purchase_channel packaging_preference                       health_concerns  \\\n",
       "0           Online               Simple  Medium (Moderately health-conscious)   \n",
       "1     Retail Store              Premium  Medium (Moderately health-conscious)   \n",
       "2     Retail Store              Premium  Medium (Moderately health-conscious)   \n",
       "\n",
       "  typical_consumption_situations price_range age_group  cf_ab_score  \\\n",
       "0       Active (eg. Sports, gym)     100-150     26-35         0.33   \n",
       "1           Social (eg. Parties)     200-250     46-55         0.40   \n",
       "2       Active (eg. Sports, gym)     200-250     36-45         0.50   \n",
       "\n",
       "   zas_score  bsi  \n",
       "0          3    1  \n",
       "1         20    0  \n",
       "2          5    0  "
      ]
     },
     "execution_count": 463,
     "metadata": {},
     "output_type": "execute_result"
    }
   ],
   "source": [
    "df.head(3)"
   ]
  },
  {
   "cell_type": "code",
   "execution_count": 464,
   "id": "20b88115-c215-47d6-b6ae-680496f035dc",
   "metadata": {},
   "outputs": [
    {
     "data": {
      "text/html": [
       "<div>\n",
       "<style scoped>\n",
       "    .dataframe tbody tr th:only-of-type {\n",
       "        vertical-align: middle;\n",
       "    }\n",
       "\n",
       "    .dataframe tbody tr th {\n",
       "        vertical-align: top;\n",
       "    }\n",
       "\n",
       "    .dataframe thead th {\n",
       "        text-align: right;\n",
       "    }\n",
       "</style>\n",
       "<table border=\"1\" class=\"dataframe\">\n",
       "  <thead>\n",
       "    <tr style=\"text-align: right;\">\n",
       "      <th>occupation</th>\n",
       "      <th>Entrepreneur</th>\n",
       "      <th>Retired</th>\n",
       "      <th>Student</th>\n",
       "      <th>Working Professional</th>\n",
       "    </tr>\n",
       "    <tr>\n",
       "      <th>age_group</th>\n",
       "      <th></th>\n",
       "      <th></th>\n",
       "      <th></th>\n",
       "      <th></th>\n",
       "    </tr>\n",
       "  </thead>\n",
       "  <tbody>\n",
       "    <tr>\n",
       "      <th>18-25</th>\n",
       "      <td>535</td>\n",
       "      <td>0</td>\n",
       "      <td>7328</td>\n",
       "      <td>2605</td>\n",
       "    </tr>\n",
       "    <tr>\n",
       "      <th>26-35</th>\n",
       "      <td>1826</td>\n",
       "      <td>0</td>\n",
       "      <td>697</td>\n",
       "      <td>6570</td>\n",
       "    </tr>\n",
       "    <tr>\n",
       "      <th>36-45</th>\n",
       "      <td>1619</td>\n",
       "      <td>0</td>\n",
       "      <td>0</td>\n",
       "      <td>4353</td>\n",
       "    </tr>\n",
       "    <tr>\n",
       "      <th>46-55</th>\n",
       "      <td>799</td>\n",
       "      <td>0</td>\n",
       "      <td>0</td>\n",
       "      <td>2167</td>\n",
       "    </tr>\n",
       "    <tr>\n",
       "      <th>56-70</th>\n",
       "      <td>212</td>\n",
       "      <td>1054</td>\n",
       "      <td>34</td>\n",
       "      <td>98</td>\n",
       "    </tr>\n",
       "  </tbody>\n",
       "</table>\n",
       "</div>"
      ],
      "text/plain": [
       "occupation  Entrepreneur  Retired  Student  Working Professional\n",
       "age_group                                                       \n",
       "18-25                535        0     7328                  2605\n",
       "26-35               1826        0      697                  6570\n",
       "36-45               1619        0        0                  4353\n",
       "46-55                799        0        0                  2167\n",
       "56-70                212     1054       34                    98"
      ]
     },
     "execution_count": 464,
     "metadata": {},
     "output_type": "execute_result"
    }
   ],
   "source": [
    "pd.crosstab(index=df['age_group'],columns=df['occupation'])"
   ]
  },
  {
   "cell_type": "code",
   "execution_count": 465,
   "id": "97f79318-fe58-49f6-bce0-d2232843dc47",
   "metadata": {},
   "outputs": [
    {
     "data": {
      "text/plain": [
       "(29897, 20)"
      ]
     },
     "execution_count": 465,
     "metadata": {},
     "output_type": "execute_result"
    }
   ],
   "source": [
    "df.shape"
   ]
  },
  {
   "cell_type": "code",
   "execution_count": 466,
   "id": "22b8ac92-35f6-45ee-9241-13cd668134e6",
   "metadata": {},
   "outputs": [],
   "source": [
    "condition = (df['age_group']=='56-70') & (df['occupation']=='Student')\n",
    "df.drop(index=df.index[condition],inplace=True)"
   ]
  },
  {
   "cell_type": "code",
   "execution_count": 467,
   "id": "ff779e46-b896-4fe6-b72d-613bbbe2adc3",
   "metadata": {},
   "outputs": [
    {
     "data": {
      "text/html": [
       "<div>\n",
       "<style scoped>\n",
       "    .dataframe tbody tr th:only-of-type {\n",
       "        vertical-align: middle;\n",
       "    }\n",
       "\n",
       "    .dataframe tbody tr th {\n",
       "        vertical-align: top;\n",
       "    }\n",
       "\n",
       "    .dataframe thead th {\n",
       "        text-align: right;\n",
       "    }\n",
       "</style>\n",
       "<table border=\"1\" class=\"dataframe\">\n",
       "  <thead>\n",
       "    <tr style=\"text-align: right;\">\n",
       "      <th>occupation</th>\n",
       "      <th>Entrepreneur</th>\n",
       "      <th>Retired</th>\n",
       "      <th>Student</th>\n",
       "      <th>Working Professional</th>\n",
       "    </tr>\n",
       "    <tr>\n",
       "      <th>age_group</th>\n",
       "      <th></th>\n",
       "      <th></th>\n",
       "      <th></th>\n",
       "      <th></th>\n",
       "    </tr>\n",
       "  </thead>\n",
       "  <tbody>\n",
       "    <tr>\n",
       "      <th>18-25</th>\n",
       "      <td>535</td>\n",
       "      <td>0</td>\n",
       "      <td>7328</td>\n",
       "      <td>2605</td>\n",
       "    </tr>\n",
       "    <tr>\n",
       "      <th>26-35</th>\n",
       "      <td>1826</td>\n",
       "      <td>0</td>\n",
       "      <td>697</td>\n",
       "      <td>6570</td>\n",
       "    </tr>\n",
       "    <tr>\n",
       "      <th>36-45</th>\n",
       "      <td>1619</td>\n",
       "      <td>0</td>\n",
       "      <td>0</td>\n",
       "      <td>4353</td>\n",
       "    </tr>\n",
       "    <tr>\n",
       "      <th>46-55</th>\n",
       "      <td>799</td>\n",
       "      <td>0</td>\n",
       "      <td>0</td>\n",
       "      <td>2167</td>\n",
       "    </tr>\n",
       "    <tr>\n",
       "      <th>56-70</th>\n",
       "      <td>212</td>\n",
       "      <td>1054</td>\n",
       "      <td>0</td>\n",
       "      <td>98</td>\n",
       "    </tr>\n",
       "  </tbody>\n",
       "</table>\n",
       "</div>"
      ],
      "text/plain": [
       "occupation  Entrepreneur  Retired  Student  Working Professional\n",
       "age_group                                                       \n",
       "18-25                535        0     7328                  2605\n",
       "26-35               1826        0      697                  6570\n",
       "36-45               1619        0        0                  4353\n",
       "46-55                799        0        0                  2167\n",
       "56-70                212     1054        0                    98"
      ]
     },
     "execution_count": 467,
     "metadata": {},
     "output_type": "execute_result"
    }
   ],
   "source": [
    "pd.crosstab(index=df['age_group'],columns=df['occupation'])"
   ]
  },
  {
   "cell_type": "code",
   "execution_count": 468,
   "id": "9d81a30a-dff1-4de5-9730-6529e417d08e",
   "metadata": {},
   "outputs": [
    {
     "data": {
      "text/plain": [
       "14"
      ]
     },
     "execution_count": 468,
     "metadata": {},
     "output_type": "execute_result"
    }
   ],
   "source": [
    "len(df.zas_score.unique())"
   ]
  },
  {
   "cell_type": "code",
   "execution_count": 469,
   "id": "3d3df8a9-1164-42ff-81ff-47d5a565bbdb",
   "metadata": {},
   "outputs": [
    {
     "data": {
      "text/plain": [
       "(29863, 20)"
      ]
     },
     "execution_count": 469,
     "metadata": {},
     "output_type": "execute_result"
    }
   ],
   "source": [
    "df.shape"
   ]
  },
  {
   "cell_type": "code",
   "execution_count": 470,
   "id": "c8bf8709-adcc-4a01-b0fe-7120c21b04b1",
   "metadata": {},
   "outputs": [
    {
     "data": {
      "text/plain": [
       "(20738, 20)"
      ]
     },
     "execution_count": 470,
     "metadata": {},
     "output_type": "execute_result"
    }
   ],
   "source": [
    "df[df.bsi==0].shape"
   ]
  },
  {
   "cell_type": "code",
   "execution_count": 471,
   "id": "e8873c8c-3a47-4a45-83e4-55428e0fd30a",
   "metadata": {},
   "outputs": [
    {
     "data": {
      "text/plain": [
       "array(['Newcomer', 'Established'], dtype=object)"
      ]
     },
     "execution_count": 471,
     "metadata": {},
     "output_type": "execute_result"
    }
   ],
   "source": [
    "df.current_brand.unique()"
   ]
  },
  {
   "cell_type": "code",
   "execution_count": null,
   "id": "b56698ea-a455-45d4-bba4-63061a379d94",
   "metadata": {},
   "outputs": [],
   "source": []
  },
  {
   "cell_type": "markdown",
   "id": "a486379e-e874-42fe-aaed-9a4d2b45b010",
   "metadata": {},
   "source": [
    "------"
   ]
  },
  {
   "cell_type": "code",
   "execution_count": 472,
   "id": "a09b75f3-418f-4112-add5-34e0c2c7d5e4",
   "metadata": {},
   "outputs": [],
   "source": [
    "X=df.drop(['respondent_id','price_range'],axis=1)\n",
    "y=df['price_range']"
   ]
  },
  {
   "cell_type": "code",
   "execution_count": 473,
   "id": "6d5bbb16-39f4-4318-a74a-78ea77f04bc7",
   "metadata": {},
   "outputs": [
    {
     "data": {
      "text/html": [
       "<div>\n",
       "<style scoped>\n",
       "    .dataframe tbody tr th:only-of-type {\n",
       "        vertical-align: middle;\n",
       "    }\n",
       "\n",
       "    .dataframe tbody tr th {\n",
       "        vertical-align: top;\n",
       "    }\n",
       "\n",
       "    .dataframe thead th {\n",
       "        text-align: right;\n",
       "    }\n",
       "</style>\n",
       "<table border=\"1\" class=\"dataframe\">\n",
       "  <thead>\n",
       "    <tr style=\"text-align: right;\">\n",
       "      <th></th>\n",
       "      <th>gender</th>\n",
       "      <th>zone</th>\n",
       "      <th>occupation</th>\n",
       "      <th>income_levels</th>\n",
       "      <th>consume_frequency(weekly)</th>\n",
       "      <th>current_brand</th>\n",
       "      <th>preferable_consumption_size</th>\n",
       "      <th>awareness_of_other_brands</th>\n",
       "      <th>reasons_for_choosing_brands</th>\n",
       "      <th>flavor_preference</th>\n",
       "      <th>purchase_channel</th>\n",
       "      <th>packaging_preference</th>\n",
       "      <th>health_concerns</th>\n",
       "      <th>typical_consumption_situations</th>\n",
       "      <th>age_group</th>\n",
       "      <th>cf_ab_score</th>\n",
       "      <th>zas_score</th>\n",
       "      <th>bsi</th>\n",
       "    </tr>\n",
       "  </thead>\n",
       "  <tbody>\n",
       "    <tr>\n",
       "      <th>0</th>\n",
       "      <td>M</td>\n",
       "      <td>3</td>\n",
       "      <td>Working Professional</td>\n",
       "      <td>1</td>\n",
       "      <td>2</td>\n",
       "      <td>Newcomer</td>\n",
       "      <td>Medium (500 ml)</td>\n",
       "      <td>1</td>\n",
       "      <td>Price</td>\n",
       "      <td>Traditional</td>\n",
       "      <td>Online</td>\n",
       "      <td>Simple</td>\n",
       "      <td>Medium (Moderately health-conscious)</td>\n",
       "      <td>Active (eg. Sports, gym)</td>\n",
       "      <td>26-35</td>\n",
       "      <td>0.33</td>\n",
       "      <td>3</td>\n",
       "      <td>1</td>\n",
       "    </tr>\n",
       "    <tr>\n",
       "      <th>1</th>\n",
       "      <td>F</td>\n",
       "      <td>4</td>\n",
       "      <td>Working Professional</td>\n",
       "      <td>5</td>\n",
       "      <td>3</td>\n",
       "      <td>Established</td>\n",
       "      <td>Medium (500 ml)</td>\n",
       "      <td>2</td>\n",
       "      <td>Quality</td>\n",
       "      <td>Exotic</td>\n",
       "      <td>Retail Store</td>\n",
       "      <td>Premium</td>\n",
       "      <td>Medium (Moderately health-conscious)</td>\n",
       "      <td>Social (eg. Parties)</td>\n",
       "      <td>46-55</td>\n",
       "      <td>0.40</td>\n",
       "      <td>20</td>\n",
       "      <td>0</td>\n",
       "    </tr>\n",
       "  </tbody>\n",
       "</table>\n",
       "</div>"
      ],
      "text/plain": [
       "  gender  zone            occupation  income_levels  \\\n",
       "0      M     3  Working Professional              1   \n",
       "1      F     4  Working Professional              5   \n",
       "\n",
       "   consume_frequency(weekly) current_brand preferable_consumption_size  \\\n",
       "0                          2      Newcomer             Medium (500 ml)   \n",
       "1                          3   Established             Medium (500 ml)   \n",
       "\n",
       "   awareness_of_other_brands reasons_for_choosing_brands flavor_preference  \\\n",
       "0                          1                       Price       Traditional   \n",
       "1                          2                     Quality            Exotic   \n",
       "\n",
       "  purchase_channel packaging_preference                       health_concerns  \\\n",
       "0           Online               Simple  Medium (Moderately health-conscious)   \n",
       "1     Retail Store              Premium  Medium (Moderately health-conscious)   \n",
       "\n",
       "  typical_consumption_situations age_group  cf_ab_score  zas_score  bsi  \n",
       "0       Active (eg. Sports, gym)     26-35         0.33          3    1  \n",
       "1           Social (eg. Parties)     46-55         0.40         20    0  "
      ]
     },
     "execution_count": 473,
     "metadata": {},
     "output_type": "execute_result"
    }
   ],
   "source": [
    "X.head(2)"
   ]
  },
  {
   "cell_type": "code",
   "execution_count": 474,
   "id": "581367af-7aff-4867-bdfc-46e82d9bbb7b",
   "metadata": {},
   "outputs": [],
   "source": [
    "from sklearn.model_selection import train_test_split"
   ]
  },
  {
   "cell_type": "markdown",
   "id": "acd4a7db-2e54-43dd-bb4c-2f1024ce43cd",
   "metadata": {},
   "source": [
    "### Feature encoding"
   ]
  },
  {
   "cell_type": "code",
   "execution_count": 475,
   "id": "2d032019-4764-4f77-9390-7fa615825f33",
   "metadata": {},
   "outputs": [
    {
     "data": {
      "text/html": [
       "<div>\n",
       "<style scoped>\n",
       "    .dataframe tbody tr th:only-of-type {\n",
       "        vertical-align: middle;\n",
       "    }\n",
       "\n",
       "    .dataframe tbody tr th {\n",
       "        vertical-align: top;\n",
       "    }\n",
       "\n",
       "    .dataframe thead th {\n",
       "        text-align: right;\n",
       "    }\n",
       "</style>\n",
       "<table border=\"1\" class=\"dataframe\">\n",
       "  <thead>\n",
       "    <tr style=\"text-align: right;\">\n",
       "      <th></th>\n",
       "      <th>gender</th>\n",
       "      <th>zone</th>\n",
       "      <th>occupation</th>\n",
       "      <th>income_levels</th>\n",
       "      <th>consume_frequency(weekly)</th>\n",
       "      <th>current_brand</th>\n",
       "      <th>preferable_consumption_size</th>\n",
       "      <th>awareness_of_other_brands</th>\n",
       "      <th>reasons_for_choosing_brands</th>\n",
       "      <th>flavor_preference</th>\n",
       "      <th>purchase_channel</th>\n",
       "      <th>packaging_preference</th>\n",
       "      <th>health_concerns</th>\n",
       "      <th>typical_consumption_situations</th>\n",
       "      <th>age_group</th>\n",
       "      <th>cf_ab_score</th>\n",
       "      <th>zas_score</th>\n",
       "      <th>bsi</th>\n",
       "    </tr>\n",
       "  </thead>\n",
       "  <tbody>\n",
       "    <tr>\n",
       "      <th>0</th>\n",
       "      <td>M</td>\n",
       "      <td>3</td>\n",
       "      <td>Working Professional</td>\n",
       "      <td>1</td>\n",
       "      <td>2</td>\n",
       "      <td>Newcomer</td>\n",
       "      <td>Medium (500 ml)</td>\n",
       "      <td>1</td>\n",
       "      <td>Price</td>\n",
       "      <td>Traditional</td>\n",
       "      <td>Online</td>\n",
       "      <td>Simple</td>\n",
       "      <td>Medium (Moderately health-conscious)</td>\n",
       "      <td>Active (eg. Sports, gym)</td>\n",
       "      <td>26-35</td>\n",
       "      <td>0.33</td>\n",
       "      <td>3</td>\n",
       "      <td>1</td>\n",
       "    </tr>\n",
       "    <tr>\n",
       "      <th>1</th>\n",
       "      <td>F</td>\n",
       "      <td>4</td>\n",
       "      <td>Working Professional</td>\n",
       "      <td>5</td>\n",
       "      <td>3</td>\n",
       "      <td>Established</td>\n",
       "      <td>Medium (500 ml)</td>\n",
       "      <td>2</td>\n",
       "      <td>Quality</td>\n",
       "      <td>Exotic</td>\n",
       "      <td>Retail Store</td>\n",
       "      <td>Premium</td>\n",
       "      <td>Medium (Moderately health-conscious)</td>\n",
       "      <td>Social (eg. Parties)</td>\n",
       "      <td>46-55</td>\n",
       "      <td>0.40</td>\n",
       "      <td>20</td>\n",
       "      <td>0</td>\n",
       "    </tr>\n",
       "  </tbody>\n",
       "</table>\n",
       "</div>"
      ],
      "text/plain": [
       "  gender  zone            occupation  income_levels  \\\n",
       "0      M     3  Working Professional              1   \n",
       "1      F     4  Working Professional              5   \n",
       "\n",
       "   consume_frequency(weekly) current_brand preferable_consumption_size  \\\n",
       "0                          2      Newcomer             Medium (500 ml)   \n",
       "1                          3   Established             Medium (500 ml)   \n",
       "\n",
       "   awareness_of_other_brands reasons_for_choosing_brands flavor_preference  \\\n",
       "0                          1                       Price       Traditional   \n",
       "1                          2                     Quality            Exotic   \n",
       "\n",
       "  purchase_channel packaging_preference                       health_concerns  \\\n",
       "0           Online               Simple  Medium (Moderately health-conscious)   \n",
       "1     Retail Store              Premium  Medium (Moderately health-conscious)   \n",
       "\n",
       "  typical_consumption_situations age_group  cf_ab_score  zas_score  bsi  \n",
       "0       Active (eg. Sports, gym)     26-35         0.33          3    1  \n",
       "1           Social (eg. Parties)     46-55         0.40         20    0  "
      ]
     },
     "execution_count": 475,
     "metadata": {},
     "output_type": "execute_result"
    }
   ],
   "source": [
    "X.head(2)"
   ]
  },
  {
   "cell_type": "code",
   "execution_count": 476,
   "id": "fc5ff278-a4e0-42a2-9bf9-961055836f6b",
   "metadata": {},
   "outputs": [],
   "source": [
    "columns_to_label_encode = ['age_group','income_levels','health_concerns','preferable_consumption_size']\n",
    "columns_to_one_hot_encode = ['gender','occupation','current_brand','reasons_for_choosing_brands','flavor_preference','purchase_channel','packaging_preference','typical_consumption_situations']\n",
    "\n",
    "\n",
    "\n",
    "\n",
    "X = pd.get_dummies(X,columns=columns_to_one_hot_encode,drop_first=True,dtype=int)\n",
    "\n"
   ]
  },
  {
   "cell_type": "code",
   "execution_count": 477,
   "id": "7327d5a4-f036-461d-aa5b-96febfe6835b",
   "metadata": {},
   "outputs": [],
   "source": [
    "from sklearn.preprocessing import LabelEncoder\n",
    "\n",
    "le = LabelEncoder()\n",
    "for col in columns_to_label_encode:\n",
    "    X[col] = le.fit_transform(X[col])\n"
   ]
  },
  {
   "cell_type": "code",
   "execution_count": 478,
   "id": "0405554a-16ca-4dba-9290-ee23d8bb631e",
   "metadata": {},
   "outputs": [
    {
     "data": {
      "text/plain": [
       "0        100-150\n",
       "1        200-250\n",
       "2        200-250\n",
       "3        150-200\n",
       "4         50-100\n",
       "          ...   \n",
       "30005    150-200\n",
       "30006    200-250\n",
       "30007    150-200\n",
       "30008    150-200\n",
       "30009    150-200\n",
       "Name: price_range, Length: 29863, dtype: object"
      ]
     },
     "execution_count": 478,
     "metadata": {},
     "output_type": "execute_result"
    }
   ],
   "source": [
    "y"
   ]
  },
  {
   "cell_type": "code",
   "execution_count": 479,
   "id": "23f0e20b-b7a5-4175-9ea2-c535f6bde19c",
   "metadata": {},
   "outputs": [
    {
     "data": {
      "text/html": [
       "<div>\n",
       "<style scoped>\n",
       "    .dataframe tbody tr th:only-of-type {\n",
       "        vertical-align: middle;\n",
       "    }\n",
       "\n",
       "    .dataframe tbody tr th {\n",
       "        vertical-align: top;\n",
       "    }\n",
       "\n",
       "    .dataframe thead th {\n",
       "        text-align: right;\n",
       "    }\n",
       "</style>\n",
       "<table border=\"1\" class=\"dataframe\">\n",
       "  <thead>\n",
       "    <tr style=\"text-align: right;\">\n",
       "      <th></th>\n",
       "      <th>zone</th>\n",
       "      <th>income_levels</th>\n",
       "      <th>consume_frequency(weekly)</th>\n",
       "      <th>preferable_consumption_size</th>\n",
       "      <th>awareness_of_other_brands</th>\n",
       "      <th>health_concerns</th>\n",
       "      <th>age_group</th>\n",
       "      <th>cf_ab_score</th>\n",
       "      <th>zas_score</th>\n",
       "      <th>bsi</th>\n",
       "      <th>...</th>\n",
       "      <th>current_brand_Newcomer</th>\n",
       "      <th>reasons_for_choosing_brands_Brand Reputation</th>\n",
       "      <th>reasons_for_choosing_brands_Price</th>\n",
       "      <th>reasons_for_choosing_brands_Quality</th>\n",
       "      <th>flavor_preference_Traditional</th>\n",
       "      <th>purchase_channel_Retail Store</th>\n",
       "      <th>packaging_preference_Premium</th>\n",
       "      <th>packaging_preference_Simple</th>\n",
       "      <th>typical_consumption_situations_Casual (eg. At home)</th>\n",
       "      <th>typical_consumption_situations_Social (eg. Parties)</th>\n",
       "    </tr>\n",
       "  </thead>\n",
       "  <tbody>\n",
       "    <tr>\n",
       "      <th>0</th>\n",
       "      <td>3</td>\n",
       "      <td>1</td>\n",
       "      <td>2</td>\n",
       "      <td>1</td>\n",
       "      <td>1</td>\n",
       "      <td>2</td>\n",
       "      <td>1</td>\n",
       "      <td>0.33</td>\n",
       "      <td>3</td>\n",
       "      <td>1</td>\n",
       "      <td>...</td>\n",
       "      <td>1</td>\n",
       "      <td>0</td>\n",
       "      <td>1</td>\n",
       "      <td>0</td>\n",
       "      <td>1</td>\n",
       "      <td>0</td>\n",
       "      <td>0</td>\n",
       "      <td>1</td>\n",
       "      <td>0</td>\n",
       "      <td>0</td>\n",
       "    </tr>\n",
       "    <tr>\n",
       "      <th>1</th>\n",
       "      <td>4</td>\n",
       "      <td>5</td>\n",
       "      <td>3</td>\n",
       "      <td>1</td>\n",
       "      <td>2</td>\n",
       "      <td>2</td>\n",
       "      <td>3</td>\n",
       "      <td>0.40</td>\n",
       "      <td>20</td>\n",
       "      <td>0</td>\n",
       "      <td>...</td>\n",
       "      <td>0</td>\n",
       "      <td>0</td>\n",
       "      <td>0</td>\n",
       "      <td>1</td>\n",
       "      <td>0</td>\n",
       "      <td>1</td>\n",
       "      <td>1</td>\n",
       "      <td>0</td>\n",
       "      <td>0</td>\n",
       "      <td>1</td>\n",
       "    </tr>\n",
       "  </tbody>\n",
       "</table>\n",
       "<p>2 rows × 24 columns</p>\n",
       "</div>"
      ],
      "text/plain": [
       "   zone  income_levels  consume_frequency(weekly)  \\\n",
       "0     3              1                          2   \n",
       "1     4              5                          3   \n",
       "\n",
       "   preferable_consumption_size  awareness_of_other_brands  health_concerns  \\\n",
       "0                            1                          1                2   \n",
       "1                            1                          2                2   \n",
       "\n",
       "   age_group  cf_ab_score  zas_score  bsi  ...  current_brand_Newcomer  \\\n",
       "0          1         0.33          3    1  ...                       1   \n",
       "1          3         0.40         20    0  ...                       0   \n",
       "\n",
       "   reasons_for_choosing_brands_Brand Reputation  \\\n",
       "0                                             0   \n",
       "1                                             0   \n",
       "\n",
       "   reasons_for_choosing_brands_Price  reasons_for_choosing_brands_Quality  \\\n",
       "0                                  1                                    0   \n",
       "1                                  0                                    1   \n",
       "\n",
       "   flavor_preference_Traditional  purchase_channel_Retail Store  \\\n",
       "0                              1                              0   \n",
       "1                              0                              1   \n",
       "\n",
       "   packaging_preference_Premium  packaging_preference_Simple  \\\n",
       "0                             0                            1   \n",
       "1                             1                            0   \n",
       "\n",
       "   typical_consumption_situations_Casual (eg. At home)  \\\n",
       "0                                                  0     \n",
       "1                                                  0     \n",
       "\n",
       "   typical_consumption_situations_Social (eg. Parties)  \n",
       "0                                                  0    \n",
       "1                                                  1    \n",
       "\n",
       "[2 rows x 24 columns]"
      ]
     },
     "execution_count": 479,
     "metadata": {},
     "output_type": "execute_result"
    }
   ],
   "source": [
    "X.head(2)"
   ]
  },
  {
   "cell_type": "code",
   "execution_count": 480,
   "id": "c779f785-c2ab-4282-a10a-e4031b790fb9",
   "metadata": {},
   "outputs": [],
   "source": [
    "le_y = LabelEncoder()\n",
    "y = le_y.fit_transform(y)"
   ]
  },
  {
   "cell_type": "code",
   "execution_count": 481,
   "id": "e3e32d78-95b8-427f-973b-0c3e6ba3e2d4",
   "metadata": {},
   "outputs": [
    {
     "data": {
      "text/plain": [
       "array([0, 2, 2, ..., 1, 1, 1], shape=(29863,))"
      ]
     },
     "execution_count": 481,
     "metadata": {},
     "output_type": "execute_result"
    }
   ],
   "source": [
    "y"
   ]
  },
  {
   "cell_type": "code",
   "execution_count": 482,
   "id": "6de6058c-c74a-4f92-8fb9-fcd42bcdfdcd",
   "metadata": {},
   "outputs": [
    {
     "data": {
      "text/plain": [
       "Index(['zone', 'income_levels', 'consume_frequency(weekly)',\n",
       "       'preferable_consumption_size', 'awareness_of_other_brands',\n",
       "       'health_concerns', 'age_group', 'cf_ab_score', 'zas_score', 'bsi',\n",
       "       'gender_M', 'occupation_Retired', 'occupation_Student',\n",
       "       'occupation_Working Professional', 'current_brand_Newcomer',\n",
       "       'reasons_for_choosing_brands_Brand Reputation',\n",
       "       'reasons_for_choosing_brands_Price',\n",
       "       'reasons_for_choosing_brands_Quality', 'flavor_preference_Traditional',\n",
       "       'purchase_channel_Retail Store', 'packaging_preference_Premium',\n",
       "       'packaging_preference_Simple',\n",
       "       'typical_consumption_situations_Casual (eg. At home)',\n",
       "       'typical_consumption_situations_Social (eg. Parties)'],\n",
       "      dtype='object')"
      ]
     },
     "execution_count": 482,
     "metadata": {},
     "output_type": "execute_result"
    }
   ],
   "source": [
    "X.columns"
   ]
  },
  {
   "cell_type": "markdown",
   "id": "e258032a-3da7-4c1d-a823-887e72d8d3ca",
   "metadata": {},
   "source": [
    "## Model selection"
   ]
  },
  {
   "cell_type": "code",
   "execution_count": 483,
   "id": "ebc797c8-aceb-4696-8dab-ad27ee6ca7d7",
   "metadata": {},
   "outputs": [],
   "source": [
    "from sklearn.naive_bayes import GaussianNB\n",
    "from sklearn.linear_model import LogisticRegression\n",
    "from sklearn.svm import SVC\n",
    "from sklearn.ensemble import RandomForestClassifier\n",
    "from xgboost import XGBClassifier\n",
    "from lightgbm import LGBMClassifier\n",
    "\n",
    "from sklearn.model_selection import cross_val_score\n",
    "from sklearn.metrics import classification_report\n"
   ]
  },
  {
   "cell_type": "code",
   "execution_count": 484,
   "id": "c1416690-7420-4b78-9110-e807a4752e69",
   "metadata": {},
   "outputs": [],
   "source": [
    "X_train,X_test,y_train,y_test = train_test_split(X,y,test_size=0.25,random_state=42)"
   ]
  },
  {
   "cell_type": "code",
   "execution_count": 485,
   "id": "29a46a95-709a-4596-80da-606f7cdfd065",
   "metadata": {},
   "outputs": [
    {
     "name": "stdout",
     "output_type": "stream",
     "text": [
      "Classification report for gaussianNB\n",
      "              precision    recall  f1-score   support\n",
      "\n",
      "           0       0.49      0.27      0.34      2017\n",
      "           1       0.57      0.34      0.43      2108\n",
      "           2       0.71      0.89      0.79      2405\n",
      "           3       0.42      0.92      0.57       936\n",
      "\n",
      "    accuracy                           0.57      7466\n",
      "   macro avg       0.55      0.60      0.53      7466\n",
      "weighted avg       0.57      0.57      0.54      7466\n",
      "\n"
     ]
    },
    {
     "name": "stderr",
     "output_type": "stream",
     "text": [
      "/Library/Frameworks/Python.framework/Versions/3.13/lib/python3.13/site-packages/sklearn/linear_model/_linear_loss.py:203: RuntimeWarning: divide by zero encountered in matmul\n",
      "  raw_prediction = X @ weights.T + intercept  # ndarray, likely C-contiguous\n",
      "/Library/Frameworks/Python.framework/Versions/3.13/lib/python3.13/site-packages/sklearn/linear_model/_linear_loss.py:203: RuntimeWarning: overflow encountered in matmul\n",
      "  raw_prediction = X @ weights.T + intercept  # ndarray, likely C-contiguous\n",
      "/Library/Frameworks/Python.framework/Versions/3.13/lib/python3.13/site-packages/sklearn/linear_model/_linear_loss.py:203: RuntimeWarning: invalid value encountered in matmul\n",
      "  raw_prediction = X @ weights.T + intercept  # ndarray, likely C-contiguous\n",
      "/Library/Frameworks/Python.framework/Versions/3.13/lib/python3.13/site-packages/sklearn/linear_model/_linear_loss.py:336: RuntimeWarning: divide by zero encountered in matmul\n",
      "  grad[:, :n_features] = grad_pointwise.T @ X + l2_reg_strength * weights\n",
      "/Library/Frameworks/Python.framework/Versions/3.13/lib/python3.13/site-packages/sklearn/linear_model/_linear_loss.py:336: RuntimeWarning: overflow encountered in matmul\n",
      "  grad[:, :n_features] = grad_pointwise.T @ X + l2_reg_strength * weights\n",
      "/Library/Frameworks/Python.framework/Versions/3.13/lib/python3.13/site-packages/sklearn/linear_model/_linear_loss.py:336: RuntimeWarning: invalid value encountered in matmul\n",
      "  grad[:, :n_features] = grad_pointwise.T @ X + l2_reg_strength * weights\n",
      "/Library/Frameworks/Python.framework/Versions/3.13/lib/python3.13/site-packages/sklearn/utils/extmath.py:203: RuntimeWarning: divide by zero encountered in matmul\n",
      "  ret = a @ b\n",
      "/Library/Frameworks/Python.framework/Versions/3.13/lib/python3.13/site-packages/sklearn/utils/extmath.py:203: RuntimeWarning: overflow encountered in matmul\n",
      "  ret = a @ b\n",
      "/Library/Frameworks/Python.framework/Versions/3.13/lib/python3.13/site-packages/sklearn/utils/extmath.py:203: RuntimeWarning: invalid value encountered in matmul\n",
      "  ret = a @ b\n"
     ]
    },
    {
     "name": "stdout",
     "output_type": "stream",
     "text": [
      "Classification report for lr\n",
      "              precision    recall  f1-score   support\n",
      "\n",
      "           0       0.75      0.76      0.76      2017\n",
      "           1       0.75      0.77      0.76      2108\n",
      "           2       0.90      0.90      0.90      2405\n",
      "           3       0.80      0.73      0.76       936\n",
      "\n",
      "    accuracy                           0.80      7466\n",
      "   macro avg       0.80      0.79      0.79      7466\n",
      "weighted avg       0.80      0.80      0.80      7466\n",
      "\n",
      "Classification report for svc\n",
      "              precision    recall  f1-score   support\n",
      "\n",
      "           0       0.76      0.78      0.77      2017\n",
      "           1       0.76      0.80      0.78      2108\n",
      "           2       0.92      0.90      0.91      2405\n",
      "           3       0.82      0.72      0.77       936\n",
      "\n",
      "    accuracy                           0.82      7466\n",
      "   macro avg       0.82      0.80      0.81      7466\n",
      "weighted avg       0.82      0.82      0.82      7466\n",
      "\n",
      "Classification report for rfc\n",
      "              precision    recall  f1-score   support\n",
      "\n",
      "           0       0.88      0.88      0.88      2017\n",
      "           1       0.85      0.88      0.87      2108\n",
      "           2       0.95      0.93      0.94      2405\n",
      "           3       0.92      0.88      0.90       936\n",
      "\n",
      "    accuracy                           0.90      7466\n",
      "   macro avg       0.90      0.90      0.90      7466\n",
      "weighted avg       0.90      0.90      0.90      7466\n",
      "\n",
      "Classification report for xgb\n",
      "              precision    recall  f1-score   support\n",
      "\n",
      "           0       0.91      0.91      0.91      2017\n",
      "           1       0.90      0.91      0.91      2108\n",
      "           2       0.96      0.96      0.96      2405\n",
      "           3       0.93      0.92      0.92       936\n",
      "\n",
      "    accuracy                           0.93      7466\n",
      "   macro avg       0.93      0.92      0.93      7466\n",
      "weighted avg       0.93      0.93      0.93      7466\n",
      "\n",
      "[LightGBM] [Warning] Found whitespace in feature_names, replace with underlines\n",
      "[LightGBM] [Info] Auto-choosing row-wise multi-threading, the overhead of testing was 0.000286 seconds.\n",
      "You can set `force_row_wise=true` to remove the overhead.\n",
      "And if memory is not enough, you can set `force_col_wise=true`.\n",
      "[LightGBM] [Info] Total Bins 82\n",
      "[LightGBM] [Info] Number of data points in the train set: 22397, number of used features: 24\n",
      "[LightGBM] [Info] Start training from score -1.359553\n",
      "[LightGBM] [Info] Start training from score -1.215815\n",
      "[LightGBM] [Info] Start training from score -1.122561\n",
      "[LightGBM] [Info] Start training from score -2.109399\n",
      "Classification report for lgbm\n",
      "              precision    recall  f1-score   support\n",
      "\n",
      "           0       0.91      0.90      0.90      2017\n",
      "           1       0.89      0.91      0.90      2108\n",
      "           2       0.96      0.96      0.96      2405\n",
      "           3       0.93      0.91      0.92       936\n",
      "\n",
      "    accuracy                           0.92      7466\n",
      "   macro avg       0.92      0.92      0.92      7466\n",
      "weighted avg       0.92      0.92      0.92      7466\n",
      "\n"
     ]
    }
   ],
   "source": [
    "models = {\n",
    "    'gaussianNB':GaussianNB(),\n",
    "    'lr':LogisticRegression(max_iter=1000),\n",
    "    'svc':SVC(),\n",
    "    'rfc':RandomForestClassifier(),\n",
    "    'xgb':XGBClassifier(),\n",
    "    'lgbm':LGBMClassifier()\n",
    "}\n",
    "\n",
    "for name,model in models.items():\n",
    "    model.fit(X_train,y_train)\n",
    "    y_pred = model.predict(X_test)\n",
    "    report = classification_report(y_test,y_pred)\n",
    "    print(f\"Classification report for {name:}\")\n",
    "    print(report)"
   ]
  },
  {
   "cell_type": "code",
   "execution_count": 486,
   "id": "7a777de1-f601-4131-b960-0bb069d94c70",
   "metadata": {},
   "outputs": [
    {
     "name": "stderr",
     "output_type": "stream",
     "text": [
      "/Library/Frameworks/Python.framework/Versions/3.13/lib/python3.13/site-packages/sklearn/linear_model/_linear_loss.py:203: RuntimeWarning: divide by zero encountered in matmul\n",
      "  raw_prediction = X @ weights.T + intercept  # ndarray, likely C-contiguous\n",
      "/Library/Frameworks/Python.framework/Versions/3.13/lib/python3.13/site-packages/sklearn/linear_model/_linear_loss.py:203: RuntimeWarning: overflow encountered in matmul\n",
      "  raw_prediction = X @ weights.T + intercept  # ndarray, likely C-contiguous\n",
      "/Library/Frameworks/Python.framework/Versions/3.13/lib/python3.13/site-packages/sklearn/linear_model/_linear_loss.py:203: RuntimeWarning: invalid value encountered in matmul\n",
      "  raw_prediction = X @ weights.T + intercept  # ndarray, likely C-contiguous\n",
      "/Library/Frameworks/Python.framework/Versions/3.13/lib/python3.13/site-packages/sklearn/linear_model/_linear_loss.py:336: RuntimeWarning: divide by zero encountered in matmul\n",
      "  grad[:, :n_features] = grad_pointwise.T @ X + l2_reg_strength * weights\n",
      "/Library/Frameworks/Python.framework/Versions/3.13/lib/python3.13/site-packages/sklearn/linear_model/_linear_loss.py:336: RuntimeWarning: overflow encountered in matmul\n",
      "  grad[:, :n_features] = grad_pointwise.T @ X + l2_reg_strength * weights\n",
      "/Library/Frameworks/Python.framework/Versions/3.13/lib/python3.13/site-packages/sklearn/linear_model/_linear_loss.py:336: RuntimeWarning: invalid value encountered in matmul\n",
      "  grad[:, :n_features] = grad_pointwise.T @ X + l2_reg_strength * weights\n",
      "/Library/Frameworks/Python.framework/Versions/3.13/lib/python3.13/site-packages/sklearn/utils/extmath.py:203: RuntimeWarning: divide by zero encountered in matmul\n",
      "  ret = a @ b\n",
      "/Library/Frameworks/Python.framework/Versions/3.13/lib/python3.13/site-packages/sklearn/utils/extmath.py:203: RuntimeWarning: overflow encountered in matmul\n",
      "  ret = a @ b\n",
      "/Library/Frameworks/Python.framework/Versions/3.13/lib/python3.13/site-packages/sklearn/utils/extmath.py:203: RuntimeWarning: invalid value encountered in matmul\n",
      "  ret = a @ b\n",
      "/Library/Frameworks/Python.framework/Versions/3.13/lib/python3.13/site-packages/sklearn/linear_model/_linear_loss.py:203: RuntimeWarning: divide by zero encountered in matmul\n",
      "  raw_prediction = X @ weights.T + intercept  # ndarray, likely C-contiguous\n",
      "/Library/Frameworks/Python.framework/Versions/3.13/lib/python3.13/site-packages/sklearn/linear_model/_linear_loss.py:203: RuntimeWarning: overflow encountered in matmul\n",
      "  raw_prediction = X @ weights.T + intercept  # ndarray, likely C-contiguous\n",
      "/Library/Frameworks/Python.framework/Versions/3.13/lib/python3.13/site-packages/sklearn/linear_model/_linear_loss.py:203: RuntimeWarning: invalid value encountered in matmul\n",
      "  raw_prediction = X @ weights.T + intercept  # ndarray, likely C-contiguous\n",
      "/Library/Frameworks/Python.framework/Versions/3.13/lib/python3.13/site-packages/sklearn/linear_model/_linear_loss.py:336: RuntimeWarning: divide by zero encountered in matmul\n",
      "  grad[:, :n_features] = grad_pointwise.T @ X + l2_reg_strength * weights\n",
      "/Library/Frameworks/Python.framework/Versions/3.13/lib/python3.13/site-packages/sklearn/linear_model/_linear_loss.py:336: RuntimeWarning: overflow encountered in matmul\n",
      "  grad[:, :n_features] = grad_pointwise.T @ X + l2_reg_strength * weights\n",
      "/Library/Frameworks/Python.framework/Versions/3.13/lib/python3.13/site-packages/sklearn/linear_model/_linear_loss.py:336: RuntimeWarning: invalid value encountered in matmul\n",
      "  grad[:, :n_features] = grad_pointwise.T @ X + l2_reg_strength * weights\n",
      "/Library/Frameworks/Python.framework/Versions/3.13/lib/python3.13/site-packages/sklearn/utils/extmath.py:203: RuntimeWarning: divide by zero encountered in matmul\n",
      "  ret = a @ b\n",
      "/Library/Frameworks/Python.framework/Versions/3.13/lib/python3.13/site-packages/sklearn/utils/extmath.py:203: RuntimeWarning: overflow encountered in matmul\n",
      "  ret = a @ b\n",
      "/Library/Frameworks/Python.framework/Versions/3.13/lib/python3.13/site-packages/sklearn/utils/extmath.py:203: RuntimeWarning: invalid value encountered in matmul\n",
      "  ret = a @ b\n",
      "/Library/Frameworks/Python.framework/Versions/3.13/lib/python3.13/site-packages/sklearn/linear_model/_linear_loss.py:203: RuntimeWarning: divide by zero encountered in matmul\n",
      "  raw_prediction = X @ weights.T + intercept  # ndarray, likely C-contiguous\n",
      "/Library/Frameworks/Python.framework/Versions/3.13/lib/python3.13/site-packages/sklearn/linear_model/_linear_loss.py:203: RuntimeWarning: overflow encountered in matmul\n",
      "  raw_prediction = X @ weights.T + intercept  # ndarray, likely C-contiguous\n",
      "/Library/Frameworks/Python.framework/Versions/3.13/lib/python3.13/site-packages/sklearn/linear_model/_linear_loss.py:203: RuntimeWarning: invalid value encountered in matmul\n",
      "  raw_prediction = X @ weights.T + intercept  # ndarray, likely C-contiguous\n",
      "/Library/Frameworks/Python.framework/Versions/3.13/lib/python3.13/site-packages/sklearn/linear_model/_linear_loss.py:336: RuntimeWarning: divide by zero encountered in matmul\n",
      "  grad[:, :n_features] = grad_pointwise.T @ X + l2_reg_strength * weights\n",
      "/Library/Frameworks/Python.framework/Versions/3.13/lib/python3.13/site-packages/sklearn/linear_model/_linear_loss.py:336: RuntimeWarning: overflow encountered in matmul\n",
      "  grad[:, :n_features] = grad_pointwise.T @ X + l2_reg_strength * weights\n",
      "/Library/Frameworks/Python.framework/Versions/3.13/lib/python3.13/site-packages/sklearn/linear_model/_linear_loss.py:336: RuntimeWarning: invalid value encountered in matmul\n",
      "  grad[:, :n_features] = grad_pointwise.T @ X + l2_reg_strength * weights\n",
      "/Library/Frameworks/Python.framework/Versions/3.13/lib/python3.13/site-packages/sklearn/utils/extmath.py:203: RuntimeWarning: divide by zero encountered in matmul\n",
      "  ret = a @ b\n",
      "/Library/Frameworks/Python.framework/Versions/3.13/lib/python3.13/site-packages/sklearn/utils/extmath.py:203: RuntimeWarning: overflow encountered in matmul\n",
      "  ret = a @ b\n",
      "/Library/Frameworks/Python.framework/Versions/3.13/lib/python3.13/site-packages/sklearn/utils/extmath.py:203: RuntimeWarning: invalid value encountered in matmul\n",
      "  ret = a @ b\n",
      "/Library/Frameworks/Python.framework/Versions/3.13/lib/python3.13/site-packages/sklearn/linear_model/_linear_loss.py:203: RuntimeWarning: divide by zero encountered in matmul\n",
      "  raw_prediction = X @ weights.T + intercept  # ndarray, likely C-contiguous\n",
      "/Library/Frameworks/Python.framework/Versions/3.13/lib/python3.13/site-packages/sklearn/linear_model/_linear_loss.py:203: RuntimeWarning: overflow encountered in matmul\n",
      "  raw_prediction = X @ weights.T + intercept  # ndarray, likely C-contiguous\n",
      "/Library/Frameworks/Python.framework/Versions/3.13/lib/python3.13/site-packages/sklearn/linear_model/_linear_loss.py:203: RuntimeWarning: invalid value encountered in matmul\n",
      "  raw_prediction = X @ weights.T + intercept  # ndarray, likely C-contiguous\n",
      "/Library/Frameworks/Python.framework/Versions/3.13/lib/python3.13/site-packages/sklearn/linear_model/_linear_loss.py:336: RuntimeWarning: divide by zero encountered in matmul\n",
      "  grad[:, :n_features] = grad_pointwise.T @ X + l2_reg_strength * weights\n",
      "/Library/Frameworks/Python.framework/Versions/3.13/lib/python3.13/site-packages/sklearn/linear_model/_linear_loss.py:336: RuntimeWarning: overflow encountered in matmul\n",
      "  grad[:, :n_features] = grad_pointwise.T @ X + l2_reg_strength * weights\n",
      "/Library/Frameworks/Python.framework/Versions/3.13/lib/python3.13/site-packages/sklearn/linear_model/_linear_loss.py:336: RuntimeWarning: invalid value encountered in matmul\n",
      "  grad[:, :n_features] = grad_pointwise.T @ X + l2_reg_strength * weights\n",
      "/Library/Frameworks/Python.framework/Versions/3.13/lib/python3.13/site-packages/sklearn/utils/extmath.py:203: RuntimeWarning: divide by zero encountered in matmul\n",
      "  ret = a @ b\n",
      "/Library/Frameworks/Python.framework/Versions/3.13/lib/python3.13/site-packages/sklearn/utils/extmath.py:203: RuntimeWarning: overflow encountered in matmul\n",
      "  ret = a @ b\n",
      "/Library/Frameworks/Python.framework/Versions/3.13/lib/python3.13/site-packages/sklearn/utils/extmath.py:203: RuntimeWarning: invalid value encountered in matmul\n",
      "  ret = a @ b\n",
      "/Library/Frameworks/Python.framework/Versions/3.13/lib/python3.13/site-packages/sklearn/linear_model/_linear_loss.py:203: RuntimeWarning: divide by zero encountered in matmul\n",
      "  raw_prediction = X @ weights.T + intercept  # ndarray, likely C-contiguous\n",
      "/Library/Frameworks/Python.framework/Versions/3.13/lib/python3.13/site-packages/sklearn/linear_model/_linear_loss.py:203: RuntimeWarning: overflow encountered in matmul\n",
      "  raw_prediction = X @ weights.T + intercept  # ndarray, likely C-contiguous\n",
      "/Library/Frameworks/Python.framework/Versions/3.13/lib/python3.13/site-packages/sklearn/linear_model/_linear_loss.py:203: RuntimeWarning: invalid value encountered in matmul\n",
      "  raw_prediction = X @ weights.T + intercept  # ndarray, likely C-contiguous\n",
      "/Library/Frameworks/Python.framework/Versions/3.13/lib/python3.13/site-packages/sklearn/linear_model/_linear_loss.py:336: RuntimeWarning: divide by zero encountered in matmul\n",
      "  grad[:, :n_features] = grad_pointwise.T @ X + l2_reg_strength * weights\n",
      "/Library/Frameworks/Python.framework/Versions/3.13/lib/python3.13/site-packages/sklearn/linear_model/_linear_loss.py:336: RuntimeWarning: overflow encountered in matmul\n",
      "  grad[:, :n_features] = grad_pointwise.T @ X + l2_reg_strength * weights\n",
      "/Library/Frameworks/Python.framework/Versions/3.13/lib/python3.13/site-packages/sklearn/linear_model/_linear_loss.py:336: RuntimeWarning: invalid value encountered in matmul\n",
      "  grad[:, :n_features] = grad_pointwise.T @ X + l2_reg_strength * weights\n",
      "/Library/Frameworks/Python.framework/Versions/3.13/lib/python3.13/site-packages/sklearn/utils/extmath.py:203: RuntimeWarning: divide by zero encountered in matmul\n",
      "  ret = a @ b\n",
      "/Library/Frameworks/Python.framework/Versions/3.13/lib/python3.13/site-packages/sklearn/utils/extmath.py:203: RuntimeWarning: overflow encountered in matmul\n",
      "  ret = a @ b\n",
      "/Library/Frameworks/Python.framework/Versions/3.13/lib/python3.13/site-packages/sklearn/utils/extmath.py:203: RuntimeWarning: invalid value encountered in matmul\n",
      "  ret = a @ b\n"
     ]
    },
    {
     "name": "stdout",
     "output_type": "stream",
     "text": [
      "[LightGBM] [Warning] Found whitespace in feature_names, replace with underlines\n",
      "[LightGBM] [Info] Auto-choosing row-wise multi-threading, the overhead of testing was 0.000318 seconds.\n",
      "You can set `force_row_wise=true` to remove the overhead.\n",
      "And if memory is not enough, you can set `force_col_wise=true`.\n",
      "[LightGBM] [Info] Total Bins 82\n",
      "[LightGBM] [Info] Number of data points in the train set: 23890, number of used features: 24\n",
      "[LightGBM] [Info] Start training from score -1.346655\n",
      "[LightGBM] [Info] Start training from score -1.227693\n",
      "[LightGBM] [Info] Start training from score -1.125122\n",
      "[LightGBM] [Info] Start training from score -2.101192\n",
      "[LightGBM] [Warning] Found whitespace in feature_names, replace with underlines\n",
      "[LightGBM] [Info] Auto-choosing row-wise multi-threading, the overhead of testing was 0.000330 seconds.\n",
      "You can set `force_row_wise=true` to remove the overhead.\n",
      "And if memory is not enough, you can set `force_col_wise=true`.\n",
      "[LightGBM] [Info] Total Bins 82\n",
      "[LightGBM] [Info] Number of data points in the train set: 23890, number of used features: 24\n",
      "[LightGBM] [Info] Start training from score -1.346655\n",
      "[LightGBM] [Info] Start training from score -1.227693\n",
      "[LightGBM] [Info] Start training from score -1.125122\n",
      "[LightGBM] [Info] Start training from score -2.101192\n",
      "[LightGBM] [Warning] Found whitespace in feature_names, replace with underlines\n",
      "[LightGBM] [Info] Auto-choosing row-wise multi-threading, the overhead of testing was 0.000312 seconds.\n",
      "You can set `force_row_wise=true` to remove the overhead.\n",
      "And if memory is not enough, you can set `force_col_wise=true`.\n",
      "[LightGBM] [Info] Total Bins 82\n",
      "[LightGBM] [Info] Number of data points in the train set: 23890, number of used features: 24\n",
      "[LightGBM] [Info] Start training from score -1.346655\n",
      "[LightGBM] [Info] Start training from score -1.227836\n",
      "[LightGBM] [Info] Start training from score -1.124993\n",
      "[LightGBM] [Info] Start training from score -2.101192\n",
      "[LightGBM] [Warning] Found whitespace in feature_names, replace with underlines\n",
      "[LightGBM] [Info] Auto-choosing row-wise multi-threading, the overhead of testing was 0.000336 seconds.\n",
      "You can set `force_row_wise=true` to remove the overhead.\n",
      "And if memory is not enough, you can set `force_col_wise=true`.\n",
      "[LightGBM] [Info] Total Bins 82\n",
      "[LightGBM] [Info] Number of data points in the train set: 23891, number of used features: 24\n",
      "[LightGBM] [Info] Start training from score -1.346536\n",
      "[LightGBM] [Info] Start training from score -1.227877\n",
      "[LightGBM] [Info] Start training from score -1.125164\n",
      "[LightGBM] [Info] Start training from score -2.100891\n",
      "[LightGBM] [Warning] Found whitespace in feature_names, replace with underlines\n",
      "[LightGBM] [Info] Auto-choosing row-wise multi-threading, the overhead of testing was 0.000315 seconds.\n",
      "You can set `force_row_wise=true` to remove the overhead.\n",
      "And if memory is not enough, you can set `force_col_wise=true`.\n",
      "[LightGBM] [Info] Total Bins 82\n",
      "[LightGBM] [Info] Number of data points in the train set: 23891, number of used features: 24\n",
      "[LightGBM] [Info] Start training from score -1.346536\n",
      "[LightGBM] [Info] Start training from score -1.227877\n",
      "[LightGBM] [Info] Start training from score -1.125164\n",
      "[LightGBM] [Info] Start training from score -2.100891\n"
     ]
    }
   ],
   "source": [
    "#let us also create a table for easier reference qith cross val score\n",
    "results={}\n",
    "for name,model in models.items():\n",
    "    scores = cross_val_score(model,X,y,cv=5,scoring='accuracy')\n",
    "    results[name] = scores.mean()\n",
    "\n"
   ]
  },
  {
   "cell_type": "code",
   "execution_count": 487,
   "id": "1c20450b-efbb-453c-a37a-e6f8262334ba",
   "metadata": {},
   "outputs": [
    {
     "data": {
      "text/html": [
       "<div>\n",
       "<style scoped>\n",
       "    .dataframe tbody tr th:only-of-type {\n",
       "        vertical-align: middle;\n",
       "    }\n",
       "\n",
       "    .dataframe tbody tr th {\n",
       "        vertical-align: top;\n",
       "    }\n",
       "\n",
       "    .dataframe thead th {\n",
       "        text-align: right;\n",
       "    }\n",
       "</style>\n",
       "<table border=\"1\" class=\"dataframe\">\n",
       "  <thead>\n",
       "    <tr style=\"text-align: right;\">\n",
       "      <th></th>\n",
       "      <th>Model Name</th>\n",
       "      <th>accuracy Score</th>\n",
       "    </tr>\n",
       "  </thead>\n",
       "  <tbody>\n",
       "    <tr>\n",
       "      <th>0</th>\n",
       "      <td>gaussianNB</td>\n",
       "      <td>0.567157</td>\n",
       "    </tr>\n",
       "    <tr>\n",
       "      <th>1</th>\n",
       "      <td>lr</td>\n",
       "      <td>0.796772</td>\n",
       "    </tr>\n",
       "    <tr>\n",
       "      <th>2</th>\n",
       "      <td>svc</td>\n",
       "      <td>0.816629</td>\n",
       "    </tr>\n",
       "    <tr>\n",
       "      <th>3</th>\n",
       "      <td>rfc</td>\n",
       "      <td>0.900479</td>\n",
       "    </tr>\n",
       "    <tr>\n",
       "      <th>4</th>\n",
       "      <td>xgb</td>\n",
       "      <td>0.925627</td>\n",
       "    </tr>\n",
       "    <tr>\n",
       "      <th>5</th>\n",
       "      <td>lgbm</td>\n",
       "      <td>0.924422</td>\n",
       "    </tr>\n",
       "  </tbody>\n",
       "</table>\n",
       "</div>"
      ],
      "text/plain": [
       "   Model Name  accuracy Score\n",
       "0  gaussianNB        0.567157\n",
       "1          lr        0.796772\n",
       "2         svc        0.816629\n",
       "3         rfc        0.900479\n",
       "4         xgb        0.925627\n",
       "5        lgbm        0.924422"
      ]
     },
     "execution_count": 487,
     "metadata": {},
     "output_type": "execute_result"
    }
   ],
   "source": [
    "results_df = pd.DataFrame(list(results.items()),columns=['Model Name',\"accuracy Score\"])\n",
    "results_df"
   ]
  },
  {
   "cell_type": "markdown",
   "id": "0423e721-da2f-4a31-b25b-7c9ca889286e",
   "metadata": {},
   "source": [
    "## ML flow model experiment tracking "
   ]
  },
  {
   "cell_type": "code",
   "execution_count": 488,
   "id": "03c01c9a-4c60-494a-845b-8142926f789b",
   "metadata": {},
   "outputs": [],
   "source": [
    "# models = {\n",
    "#     'gaussianNB':GaussianNB(),\n",
    "#     'lr':LogisticRegression(max_iter=1000),\n",
    "#     'svc':SVC(),\n",
    "#     'rfc':RandomForestClassifier(),\n",
    "#     'xgb':XGBClassifier(),\n",
    "#     'lgbm':LGBMClassifier()\n",
    "# }\n",
    "\n",
    "# import mlflow\n",
    "# mlflow.set_experiment(\"trail experiment\")\n",
    "# mlflow.set_tracking_uri('http://127.0.0.1:5000')\n",
    "\n",
    "# for name,model in models.items():\n",
    "#     model.fit(X_train,y_train)\n",
    "#     y_pred = model.predict(X_test)\n",
    "#     report = classification_report(y_test,y_pred,output_dict=True)\n",
    "    \n",
    "#     with mlflow.start_run(run_name=f\"{name}\"):\n",
    "#         mlflow.log_param('model_name',name)\n",
    "#         mlflow.log_metrics({\n",
    "#             'accuracy':report['accuracy'],\n",
    "#             'recall_0':report['0']['recall'],\n",
    "#             'recall_1':report['1']['recall'],\n",
    "#             'recall_2':report['2']['recall'],\n",
    "#             'recall_3':report['3']['recall'],\n",
    "#             'precision_0':report['0']['precision'],\n",
    "#             'precision_1':report['1']['precision'],\n",
    "#             'precision_2':report['2']['precision'],\n",
    "#             'precision_3':report['3']['precision'],\n",
    "#             'f1_score_macro':report['macro avg']['f1-score']\n",
    "            \n",
    "#         })\n",
    "#         if 'xgb' in name:\n",
    "#             mlflow.xgboost.log_model(model,f\"{name}\")\n",
    "#         else:\n",
    "#             mlflow.sklearn.log_model(model,f\"{name}\")\n",
    "        \n",
    "    "
   ]
  },
  {
   "cell_type": "code",
   "execution_count": 489,
   "id": "d6df66d1-d1bd-4bb1-8f94-e14a885726b4",
   "metadata": {},
   "outputs": [
    {
     "data": {
      "text/plain": [
       "Index(['zone', 'income_levels', 'consume_frequency(weekly)',\n",
       "       'preferable_consumption_size', 'awareness_of_other_brands',\n",
       "       'health_concerns', 'age_group', 'cf_ab_score', 'zas_score', 'bsi',\n",
       "       'gender_M', 'occupation_Retired', 'occupation_Student',\n",
       "       'occupation_Working Professional', 'current_brand_Newcomer',\n",
       "       'reasons_for_choosing_brands_Brand Reputation',\n",
       "       'reasons_for_choosing_brands_Price',\n",
       "       'reasons_for_choosing_brands_Quality', 'flavor_preference_Traditional',\n",
       "       'purchase_channel_Retail Store', 'packaging_preference_Premium',\n",
       "       'packaging_preference_Simple',\n",
       "       'typical_consumption_situations_Casual (eg. At home)',\n",
       "       'typical_consumption_situations_Social (eg. Parties)'],\n",
       "      dtype='object')"
      ]
     },
     "execution_count": 489,
     "metadata": {},
     "output_type": "execute_result"
    }
   ],
   "source": [
    "X.columns"
   ]
  },
  {
   "cell_type": "code",
   "execution_count": 490,
   "id": "42e8dc23-48cf-4723-a357-7762e707d1ad",
   "metadata": {},
   "outputs": [
    {
     "data": {
      "text/plain": [
       "(29863, 24)"
      ]
     },
     "execution_count": 490,
     "metadata": {},
     "output_type": "execute_result"
    }
   ],
   "source": [
    "X.shape"
   ]
  },
  {
   "cell_type": "code",
   "execution_count": 491,
   "id": "ed61263b-73b0-43a7-93b0-6d9b01382b7e",
   "metadata": {},
   "outputs": [
    {
     "data": {
      "text/plain": [
       "array(['100-150', '150-200', '200-250', '50-100'], dtype=object)"
      ]
     },
     "execution_count": 491,
     "metadata": {},
     "output_type": "execute_result"
    }
   ],
   "source": [
    "le_y.classes_"
   ]
  },
  {
   "cell_type": "markdown",
   "id": "49e4e3bf-7021-42a8-bab0-459aaf5d5304",
   "metadata": {},
   "source": [
    "### Saving the model"
   ]
  },
  {
   "cell_type": "code",
   "execution_count": 492,
   "id": "46fedefb-88cb-4ca3-860c-cb7bf9b896f5",
   "metadata": {},
   "outputs": [
    {
     "data": {
      "text/plain": [
       "['artifacts/model_data.joblib']"
      ]
     },
     "execution_count": 492,
     "metadata": {},
     "output_type": "execute_result"
    }
   ],
   "source": [
    "from joblib import dump\n",
    "xgb_clf = XGBClassifier()   \n",
    "xgb_clf.fit(X_train, y_train)\n",
    "\n",
    "label_classes = le_y.classes_.tolist()\n",
    "\n",
    "dump(\n",
    "    {\n",
    "        \"model\": xgb_clf,                     # the FITTED estimator (not a fresh XGBClassifier())\n",
    "        \"features\": X.columns.tolist(),\n",
    "        \"label_classes\": label_classes\n",
    "    },\n",
    "    \"artifacts/model_data.joblib\"\n",
    ")"
   ]
  },
  {
   "cell_type": "code",
   "execution_count": null,
   "id": "9b32005b-c862-4f71-8559-2b34364c421c",
   "metadata": {},
   "outputs": [],
   "source": []
  },
  {
   "cell_type": "code",
   "execution_count": null,
   "id": "72e49487-30dc-4c3a-acdc-8865a1ca4533",
   "metadata": {},
   "outputs": [],
   "source": []
  }
 ],
 "metadata": {
  "kernelspec": {
   "display_name": "Python 3 (ipykernel)",
   "language": "python",
   "name": "python3"
  },
  "language_info": {
   "codemirror_mode": {
    "name": "ipython",
    "version": 3
   },
   "file_extension": ".py",
   "mimetype": "text/x-python",
   "name": "python",
   "nbconvert_exporter": "python",
   "pygments_lexer": "ipython3",
   "version": "3.13.3"
  }
 },
 "nbformat": 4,
 "nbformat_minor": 5
}
